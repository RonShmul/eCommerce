{
 "cells": [
  {
   "cell_type": "heading",
   "metadata": {},
   "level": 1,
   "source": []
  },
  {
   "cell_type": "code",
   "execution_count": null,
   "metadata": {},
   "outputs": [],
   "source": [
    "from os import path\n",
    "import turicreate as tc\n",
    "from sklearn.metrics import mean_absolute_error\n",
    "from datetime import datetime\n",
    "\n",
    "data_dir = '/Users/sivanr/PycharmProjects/eCommerce/ml-100k'\n",
    "\n",
    "r_cols = ['user_id', 'movie_id', 'rating', 'timestamp']\n",
    "ratings_base = tc.SFrame.read_csv(path.join(data_dir, 'u1.base'), delimiter='\\t',  header=False)\n",
    "ratings_test = tc.SFrame.read_csv(path.join(data_dir, 'u1.test'), delimiter='\\t',  header=False)\n",
    "\n",
    "m_cols = ['movie_id', 'movie_title', 'release_date', 'video_release_date',\n",
    "          'IMDb_URL', 'unknown', 'Action', 'Adventure', 'Animation', 'Children',\n",
    "          'Comedy', 'Crime', 'Documentary', 'Drama', 'Fantasy', 'Film-Noir',\n",
    "          'Horror', 'Musical', 'Mystery', 'Romance', 'Sci-Fi', 'Thriller', 'War', 'Western']\n",
    "\n",
    "movies = tc.SFrame.read_csv(path.join(data_dir, 'u.item'), delimiter='|',  header=False)\n",
    "\n",
    "\n",
    "# Changing column names\n",
    "new_rating_columns = dict(zip(ratings_base.column_names(), r_cols))\n",
    "new_movies_columns = dict(zip(movies.column_names(), m_cols))\n",
    "ratings_training = ratings_base.rename(new_rating_columns)\n",
    "ratings_testing = ratings_test.rename(new_rating_columns)\n",
    "movies = movies.rename(new_movies_columns)\n",
    "ratings_training"
   ]
  },
  {
   "cell_type": "heading",
   "metadata": {},
   "level": 2,
   "source": [
    "Helper function to evaluate the models by MAE"
   ]
  },
  {
   "cell_type": "code",
   "execution_count": null,
   "metadata": {},
   "outputs": [],
   "source": [
    "def evaluate_model(model, test_data):\n",
    "    predictions = model.predict(test_data)\n",
    "    return mean_absolute_error(test_data['rating'], predictions)\n"
   ]
  },
  {
   "cell_type": "heading",
   "metadata": {},
   "level": 1,
   "source": [
    "Creating and evaluating the models"
   ]
  },
  {
   "cell_type": "heading",
   "metadata": {},
   "level": 2,
   "source": [
    "Ranking factorization"
   ]
  },
  {
   "cell_type": "code",
   "execution_count": null,
   "metadata": {},
   "outputs": [],
   "source": [
    "# predict rating with ranking_factorization_recommender\n",
    "start = datetime.now()\n",
    "ranking_factorization_model = tc.ranking_factorization_recommender.create(ratings_training,\n",
    "                                                                          'user_id', 'movie_id', 'rating')\n",
    "ranking_factorization_mae = evaluate_model(ranking_factorization_model, ratings_testing)\n",
    "ranking_factorization_duration = datetime.now() - start\n",
    "\n",
    "print(\"************* ranking_factorization *****************\")\n",
    "print(\"MAE: \", ranking_factorization_mae, \", duration: \", ranking_factorization_duration)\n"
   ]
  },
  {
   "cell_type": "heading",
   "metadata": {},
   "level": 2,
   "source": [
    "Factorization"
   ]
  },
  {
   "cell_type": "code",
   "execution_count": null,
   "metadata": {},
   "outputs": [],
   "source": [
    "# predict rating with factorization_recommender\n",
    "start = datetime.now()\n",
    "factorization_model = tc.factorization_recommender.create(ratings_training,\n",
    "                                                          'user_id', 'movie_id', 'rating')\n",
    "factorization_mae = evaluate_model(factorization_model, ratings_testing)\n",
    "factorization_duration = datetime.now() - start\n",
    "\n",
    "print(\"************* factorization *****************\")\n",
    "print(\"MAE: \", factorization_mae, \", duration: \", factorization_duration)\n"
   ]
  },
  {
   "cell_type": "heading",
   "metadata": {},
   "level": 2,
   "source": [
    "Item similarity"
   ]
  },
  {
   "cell_type": "code",
   "execution_count": null,
   "metadata": {},
   "outputs": [],
   "source": [
    "# predict rating with item_similarity_recommender\n",
    "start = datetime.now()\n",
    "item_similarity_model = tc.item_similarity_recommender.create(ratings_training,\n",
    "                                                              'user_id', 'movie_id', 'rating')\n",
    "item_similarity_mae = evaluate_model(item_similarity_model, ratings_testing)\n",
    "item_similarity_duration = datetime.now() - start\n",
    "\n",
    "print(\"************* item_similarity *****************\")\n",
    "print(\"MAE: \", item_similarity_mae, \", duration: \", item_similarity_duration)\n"
   ]
  },
  {
   "cell_type": "heading",
   "metadata": {},
   "level": 2,
   "source": [
    "Item content"
   ]
  },
  {
   "cell_type": "code",
   "execution_count": null,
   "metadata": {},
   "outputs": [],
   "source": [
    "# predict rating with item_content_recommender\n",
    "start = datetime.now()\n",
    "item_content_model = tc.item_content_recommender.create(item_data=movies, observation_data=ratings_training,\n",
    "                                                        user_id='user_id', item_id='movie_id', target='rating')\n",
    "item_content_mae = evaluate_model(item_content_model, ratings_testing)\n",
    "item_content_duration = datetime.now() - start\n",
    "\n",
    "print(\"************* item_content *****************\")\n",
    "print(\"MAE: \", item_content_mae, \", duration: \", item_content_duration)\n"
   ]
  },
  {
   "cell_type": "heading",
   "metadata": {},
   "level": 1,
   "source": [
    "Compare models"
   ]
  },
  {
   "cell_type": "code",
   "execution_count": null,
   "metadata": {},
   "outputs": [],
   "source": [
    "# compare models\n",
    "tc.recommender.util.compare_models(ratings_testing,\n",
    "                                   [ranking_factorization_model,\n",
    "                                    factorization_model,\n",
    "                                    item_similarity_model,\n",
    "                                    item_content_model],\n",
    "                                   model_names=[\"ranking_factorization\",\n",
    "                                                \"factorization\",\n",
    "                                                \"item_similarity\",\n",
    "                                                \"item_content\"])\n"
   ]
  }
 ],
 "metadata": {
  "kernelspec": {
   "display_name": "Python 2",
   "language": "python",
   "name": "python2"
  },
  "language_info": {
   "codemirror_mode": {
    "name": "ipython",
    "version": 2
   },
   "file_extension": ".py",
   "mimetype": "text/x-python",
   "name": "python",
   "nbconvert_exporter": "python",
   "pygments_lexer": "ipython2",
   "version": "2.7.6"
  }
 },
 "nbformat": 4,
 "nbformat_minor": 0
}
