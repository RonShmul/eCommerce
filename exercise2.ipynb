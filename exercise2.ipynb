{
 "cells": [
  {
   "cell_type": "code",
   "execution_count": 10,
   "metadata": {
    "collapsed": false
   },
   "outputs": [
    {
     "name": "stdout",
     "output_type": "stream",
     "text": [
      "2.6884848484848485\n"
     ]
    }
   ],
   "source": [
    "import pandas as pd\n",
    "import matplotlib.pyplot as plt\n",
    "\n",
    "\n",
    "r_cols = ['user_id', 'movie_id', 'rating', 'timestamp']\n",
    "# train\n",
    "data_train = pd.read_csv(\"ml-100k/u1.base\", delimiter='\\t', names=r_cols)\n",
    "average_movie_train = data_train.groupby('movie_id')['rating'].mean()\n",
    "average_movie_train_int = average_movie_train.astype(int)\n",
    "avg = average_movie_train_int.values.mean()\n",
    "print(avg)\n",
    "\n",
    "# test\n",
    "data_test = pd.read_csv(\"ml-100k/u1.test\", delimiter='\\t', names=r_cols)\n",
    "average_movie_test = data_test.groupby('movie_id')['rating'].mean()\n",
    "average_movie_test_int = average_movie_test.astype(int)\n",
    "\n",
    "\n",
    "def simple_predict(movie):\n",
    "    return avg\n",
    "    \n",
    "    "
   ]
  },
  {
   "cell_type": "code",
   "execution_count": null,
   "metadata": {},
   "outputs": [],
   "source": []
  }
 ],
 "metadata": {
  "kernelspec": {
   "display_name": "Python 2",
   "language": "python",
   "name": "python2"
  },
  "language_info": {
   "codemirror_mode": {
    "name": "ipython",
    "version": 2
   },
   "file_extension": ".py",
   "mimetype": "text/x-python",
   "name": "python",
   "nbconvert_exporter": "python",
   "pygments_lexer": "ipython2",
   "version": "2.7.6"
  }
 },
 "nbformat": 4,
 "nbformat_minor": 0
}
