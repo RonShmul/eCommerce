{
 "cells": [
  {
   "cell_type": "heading",
   "metadata": {
    "collapsed": true
   },
   "level": 1,
   "source": [
    "Imports and data"
   ]
  },
  {
   "cell_type": "code",
   "execution_count": null,
   "metadata": {},
   "outputs": [],
   "source": [
    "import pandas as pd\n",
    "import numpy as np\n",
    "from sklearn.linear_model import LogisticRegression\n",
    "from sklearn.metrics import mean_absolute_error\n",
    "\n",
    "r_cols = ['user_id', 'movie_id', 'rating', 'timestamp']\n",
    "i_cols = ['movie_id', 'movie_title', 'release_date', 'video_release_date',\n",
    "          'IMDb_URL', 'unknown', 'Action', 'Adventure', 'Animation', 'Children',\n",
    "          'Comedy', 'Crime', 'Documentary', 'Drama', 'Fantasy', 'Film-Noir',\n",
    "          'Horror', 'Musical', 'Mystery', 'Romance', 'Sci-Fi', 'Thriller', 'War', 'Western']\n",
    "u_cols = ['user_id', 'age', 'gender', 'occupation', 'zip_code']\n",
    "\n",
    "train_data = pd.read_csv(\"/Users/sivanr/PycharmProjects/eCommerce/ml-100k/u1.base\", delimiter='\\t', names=r_cols)\n",
    "test_data = pd.read_csv(\"/Users/sivanr/PycharmProjects/eCommerce/ml-100k/u1.test\", delimiter='\\t', names=r_cols)\n",
    "data_i = pd.read_csv('/Users/sivanr/PycharmProjects/eCommerce/ml-100k/u.item', delimiter='|', names=i_cols,\n",
    "                     encoding='latin-1')\n",
    "data_u = pd.read_csv('/Users/sivanr/PycharmProjects/eCommerce/ml-100k/u.user', delimiter='|', names=u_cols)\n"
   ]
  },
  {
   "cell_type": "heading",
   "metadata": {},
   "level": 2,
   "source": [
    "Marge items, users and rating and remove irrelevant columns"
   ]
  },
  {
   "cell_type": "code",
   "execution_count": null,
   "metadata": {},
   "outputs": [],
   "source": [
    "\n",
    "movies_rating_train = data_i.merge(train_data, on='movie_id', how='inner')\n",
    "movies_rating_test = data_i.merge(test_data, on='movie_id', how='inner')\n",
    "\n",
    "users_ratings_train = train_data.merge(data_u, on='user_id', how='inner')\n",
    "users_ratings_test = test_data.merge(data_u, on='user_id', how='inner')\n",
    "\n",
    "movies_users_ratings_train = movies_rating_train.merge(users_ratings_train, on=['user_id', 'movie_id'], how='inner',\n",
    "                                                       suffixes=('', '_y'))\n",
    "movies_users_ratings_test = movies_rating_test.merge(users_ratings_test, on=['user_id', 'movie_id'], how='inner',\n",
    "                                                     suffixes=('', '_y'))\n",
    "\n",
    "columns_to_drop = ['movie_id', 'movie_title', 'user_id', 'rating_y', 'timestamp', 'timestamp_y', 'release_date',\n",
    "                   'video_release_date', 'IMDb_URL', 'zip_code']\n",
    "movies_users_ratings_train.drop(columns_to_drop, inplace=True, axis=1)\n",
    "movies_users_ratings_test.drop(columns_to_drop, inplace=True, axis=1)\n",
    "\n",
    "print(\"train set shape: \", movies_users_ratings_train.shape)\n",
    "print(\"test set shape: \", movies_users_ratings_test.shape)\n"
   ]
  },
  {
   "cell_type": "heading",
   "metadata": {},
   "level": 1,
   "source": [
    "Get dummies data from categorical features"
   ]
  },
  {
   "cell_type": "code",
   "execution_count": null,
   "metadata": {},
   "outputs": [],
   "source": [
    "cat_vars = ['gender', 'occupation']\n",
    "\n",
    "for var in cat_vars:\n",
    "    cat_list = pd.get_dummies(movies_users_ratings_train[var], prefix=var)\n",
    "    movies_users_ratings_train = movies_users_ratings_train.join(cat_list)\n",
    "\n",
    "    cat_list = pd.get_dummies(movies_users_ratings_test[var], prefix=var)\n",
    "    movies_users_ratings_test = movies_users_ratings_test.join(cat_list)\n"
   ]
  },
  {
   "cell_type": "heading",
   "metadata": {},
   "level": 2,
   "source": [
    "Digitize 'age' feature with 5 bins"
   ]
  },
  {
   "cell_type": "code",
   "execution_count": null,
   "metadata": {},
   "outputs": [],
   "source": [
    "movies_users_ratings_train['age'] = np.digitize(movies_users_ratings_train['age'], bins=[10, 20, 35, 50])\n",
    "movies_users_ratings_test['age'] = np.digitize(movies_users_ratings_test['age'], bins=[10, 20, 35, 50])\n",
    "movies_users_ratings_train\n"
   ]
  },
  {
   "cell_type": "heading",
   "metadata": {},
   "level": 2,
   "source": [
    "Create train set and test set for the algorithm"
   ]
  },
  {
   "cell_type": "code",
   "execution_count": null,
   "metadata": {},
   "outputs": [],
   "source": [
    "columns = movies_users_ratings_train.columns.values.tolist()\n",
    "to_keep = [i for i in columns if i not in cat_vars]\n",
    "\n",
    "movies_users_ratings_train = movies_users_ratings_train[to_keep]\n",
    "movies_users_ratings_test = movies_users_ratings_test[to_keep]\n",
    "\n",
    "\n",
    "X_train = movies_users_ratings_train.loc[:, movies_users_ratings_train.columns != 'rating']\n",
    "X_test = movies_users_ratings_test.loc[:, movies_users_ratings_test.columns != 'rating']\n",
    "y_train = movies_users_ratings_train.loc[:, movies_users_ratings_train.columns == 'rating']\n",
    "y_test = movies_users_ratings_test.loc[:, movies_users_ratings_test.columns == 'rating']\n",
    "\n",
    "print(\"train set shape: \", X_train.shape)\n",
    "print(\"test set shape: \", X_test.shape)\n"
   ]
  },
  {
   "cell_type": "heading",
   "metadata": {},
   "level": 1,
   "source": [
    "Predict rate with Logistic Regression"
   ]
  },
  {
   "cell_type": "code",
   "execution_count": null,
   "metadata": {},
   "outputs": [],
   "source": [
    "logreg = LogisticRegression()\n",
    "logreg.fit(X_train, y_train)\n",
    "\n",
    "y_pred = logreg.predict(X_test)\n",
    "print('MAE of logistic regression classifier on test set: {:.2f}'.format(mean_absolute_error(y_test, y_pred)))\n"
   ]
  },
  {
   "cell_type": "heading",
   "metadata": {},
   "level": 1,
   "source": [
    "Choose 2 features and evaluate"
   ]
  },
  {
   "cell_type": "code",
   "execution_count": null,
   "metadata": {},
   "outputs": [],
   "source": [
    "to_keep = ['age', 'gender_M', 'gender_F']\n",
    "X_train = X_train.filter(to_keep)\n",
    "X_test = X_test.filter(to_keep)\n",
    "\n",
    "# logreg = RandomForestClassifier(n_estimators=20, max_depth=10, min_samples_split=3)\n",
    "logreg = LogisticRegression()\n",
    "logreg.fit(X_train, y_train)\n",
    "\n",
    "y_pred = logreg.predict(X_test)\n",
    "print('MAE of logistic regression classifier on test set: {:.2f}'.format(mean_absolute_error(y_test, y_pred)))"
   ]
  },
  {
   "cell_type": "markdown",
   "metadata": {},
   "source": [
    "For each two features we evaluated the model to determine which two features give the lowest MAE with the loop below:"
   ]
  },
  {
   "cell_type": "code",
   "execution_count": null,
   "metadata": {},
   "outputs": [],
   "source": [
    "for i in range(X_train.shape[1]):\n",
    "    for j in range(X_train.shape[1]):\n",
    "        if i != j:\n",
    "            temp_train = X_train.iloc[:, [i, j]]\n",
    "            temp_test = X_test.iloc[:, [i, j]]\n",
    "            logreg = LogisticRegression()\n",
    "            logreg.fit(temp_train, y_train)\n",
    "\n",
    "            y_pred = logreg.predict(temp_test)\n",
    "            print(\"features: \", temp_train.columns.values.tolist(), \": \")\n",
    "            print('MAE of logistic regression classifier on test set: {:.2f}'.format(mean_absolute_error(y_test, y_pred)))\n"
   ]
  },
  {
   "cell_type": "markdown",
   "metadata": {},
   "source": [
    "we found out that the differences between the models are very\n",
    "if small."
   ]
  }
 ],
 "metadata": {
  "kernelspec": {
   "display_name": "Python 2",
   "language": "python",
   "name": "python2"
  },
  "language_info": {
   "codemirror_mode": {
    "name": "ipython",
    "version": 2
   },
   "file_extension": ".py",
   "mimetype": "text/x-python",
   "name": "python",
   "nbconvert_exporter": "python",
   "pygments_lexer": "ipython2",
   "version": "2.7.6"
  }
 },
 "nbformat": 4,
 "nbformat_minor": 0
}
