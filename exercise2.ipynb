{
 "cells": [
  {
   "cell_type": "heading",
   "metadata": {},
   "level": 1,
   "source": [
    "Preparing Data"
   ]
  },
  {
   "cell_type": "code",
   "execution_count": 49,
   "metadata": {},
   "outputs": [],
   "source": [
    "import numpy as np\n",
    "import pandas as pd\n",
    "import matplotlib.pyplot as plt"
   ]
  },
  {
   "cell_type": "code",
   "execution_count": 50,
   "metadata": {
    "collapsed": false
   },
   "outputs": [],
   "source": [
    "average_movie_train_df = pd.DataFrame({'rating_avg': data_train.groupby('movie_id')['rating'].mean()}).reset_index()\n",
    "average_movie_train_df.sort_values(by='rating_avg', ascending=False, inplace=True)\n",
    "average_movie_train_df = average_movie_train_df.reset_index(drop=True)\n",
    "user_movies_train_df = pd.DataFrame({'movies_list': data_train.groupby('user_id')['movie_id'].apply(list)}).reset_index()\n",
    "user_movies_test_df = pd.DataFrame({'movies_list': data_test.groupby('user_id')['movie_id'].apply(list)}).reset_index()\n",
    "\n",
    "train_cols = ['user_id', 'movie_id', 'rating', 'timestamp']\n",
    "data_train = pd.read_csv(\"ml-100k/u1.base\", delimiter='\\t', names=train_cols)\n",
    "test_cols = ['user_id', 'movie_id', 'rating', 'timestamp', 'predict_rating', 'difference']\n",
    "data_test = pd.read_csv(\"ml-100k/u1.test\", delimiter='\\t', names=test_cols)\n",
    "average_movie_train = data_train.groupby('movie_id')['rating'].mean()\n",
    "average_movie_train_int = average_movie_train.astype(int)\n",
    "avg = average_movie_train_int.values.mean()\n",
    "avg = avg.astype(int)"
   ]
  },
  {
   "cell_type": "heading",
   "metadata": {},
   "level": 1,
   "source": [
    "User Recommendations"
   ]
  },
  {
   "cell_type": "code",
   "execution_count": 51,
   "metadata": {},
   "outputs": [],
   "source": [
    "def user_recommendations():\n",
    "    user_recommendations_avg = {}\n",
    "    user_recommendations_random = {}\n",
    "    for index, row in user_movies_train_df.iterrows():\n",
    "        id = row['user_id']\n",
    "        movies = row['movies_list']\n",
    "        rec_list_avg = []\n",
    "        rec_list_random = []\n",
    "        i = 0\n",
    "        # Average\n",
    "        while len(rec_list_avg) < 20:\n",
    "            must_pop_avg = average_movie_train_df.iloc[i]['movie_id'].astype(int)        \n",
    "            if must_pop_avg not in movies:\n",
    "                rec_list_avg.append(must_pop_avg)\n",
    "            i = i + 1\n",
    "        user_recommendations_avg[id] = rec_list_avg\n",
    "        # Random\n",
    "        rec_list_random = list(average_movie_train_df.sample(n=20)['movie_id'])\n",
    "        user_recommendations_random[id] = rec_list_random\n",
    "    # print(user_recommendations_avg)\n",
    "    # print(user_recommendations_random)\n",
    "    \n",
    "    \n",
    "user_recommendations()"
   ]
  },
  {
   "cell_type": "heading",
   "metadata": {},
   "level": 1,
   "source": [
    "MAE"
   ]
  },
  {
   "cell_type": "code",
   "execution_count": 52,
   "metadata": {
    "collapsed": false
   },
   "outputs": [
    {
     "name": "stdout",
     "output_type": "stream",
     "text": [
      "0.94175\n"
     ]
    }
   ],
   "source": [
    "def avg_movie(movie_id):\n",
    "    if movie_id in average_movie_train_int:\n",
    "        return average_movie_train_int[movie_id]\n",
    "    else:\n",
    "        return None\n",
    "\n",
    "\n",
    "def calc_mae():\n",
    "    global data_test\n",
    "    for index, row in data_test.iterrows():\n",
    "        predict_value = avg_movie(row['movie_id'])\n",
    "        if predict_value is None:\n",
    "            predict_value = avg\n",
    "        data_test.at[index, 'predict_rating'] = predict_value    \n",
    "        real_value = row['rating']\n",
    "        difference = pd.np.absolute(real_value - predict_value)\n",
    "        data_test.at[index, 'difference'] = difference \n",
    "    numerator = data_test['difference'].sum()\n",
    "    denominator = data_test.shape[0]\n",
    "    mae = numerator/denominator\n",
    "    print(mae)\n",
    "\n",
    "        \n",
    "calc_mae()\n",
    "\n"
   ]
  },
  {
   "cell_type": "heading",
   "metadata": {},
   "level": 1,
   "source": [
    "Recall and Precision"
   ]
  },
  {
   "cell_type": "code",
   "execution_count": 53,
   "metadata": {},
   "outputs": [
    {
     "name": "stdout",
     "output_type": "stream",
     "text": [
      "0.02233534107339741\n0.010657634163740392\n0.04586056644880174\n0.025816993464052286\n"
     ]
    }
   ],
   "source": [
    "def recall_precision():\n",
    "    user_recall_avg = []\n",
    "    user_recall_random = []\n",
    "    user_precision_avg = []\n",
    "    user_precision_random = []\n",
    "    \n",
    "    for index, row in user_movies_test_df.iterrows():\n",
    "        id = row['user_id']\n",
    "        true = row['movies_list']\n",
    "        pred_avg = user_recommendations_avg[id]\n",
    "        pred_random = user_recommendations_random[id]\n",
    "        \n",
    "        size_true = len(true)\n",
    "        size_pred_avg = len(pred_avg)    \n",
    "        size_pred_random = len(pred_random)\n",
    "        \n",
    "        common_avg = list(set(true).intersection(pred_avg))\n",
    "        common_random = list(set(true).intersection(pred_random))\n",
    "        \n",
    "        number_common_avg = len(common_avg)\n",
    "        number_common_random = len(common_random)\n",
    "        \n",
    "        recall_avg = number_common_avg / size_true\n",
    "        user_recall_avg.append(recall_avg)\n",
    "        recall_random = number_common_random / size_true\n",
    "        user_recall_random.append(recall_random)\n",
    "        \n",
    "        precision_avg = number_common_avg / size_pred_avg\n",
    "        user_precision_avg.append(precision_avg)\n",
    "        precision_random = number_common_random / size_pred_random\n",
    "        user_precision_random.append(precision_random)\n",
    "    \n",
    "    recall_for_avg = np.mean(user_recall_avg)\n",
    "    recall_for_random = np.mean(user_recall_random)\n",
    "    precision_for_avg = np.mean(user_precision_avg)\n",
    "    precision_for_random = np.mean(user_precision_random)\n",
    "    print(recall_for_avg)\n",
    "    print(recall_for_random)\n",
    "    print(precision_for_avg)\n",
    "    print(precision_for_random)\n",
    "\n",
    "\n",
    "recall_precision()"
   ]
  },
  {
   "cell_type": "heading",
   "metadata": {},
   "level": 1,
   "source": [
    "Preparing Data - Males"
   ]
  },
  {
   "cell_type": "code",
   "execution_count": 82,
   "metadata": {},
   "outputs": [],
   "source": [
    "average_movie_train_df = pd.DataFrame({'rating_avg': data_train.groupby('movie_id')['rating'].mean()}).reset_index()\n",
    "average_movie_train_df.sort_values(by='rating_avg', ascending=False, inplace=True)\n",
    "average_movie_train_df = average_movie_train_df.reset_index(drop=True)\n",
    "user_movies_train_df = pd.DataFrame({'movies_list': data_train.groupby('user_id')['movie_id'].apply(list)}).reset_index()\n",
    "user_movies_test_df = pd.DataFrame({'movies_list': data_test.groupby('user_id')['movie_id'].apply(list)}).reset_index()\n",
    "\n",
    "train_cols = ['user_id', 'movie_id', 'rating', 'timestamp']\n",
    "data_train = pd.read_csv(\"ml-100k/u1.base\", delimiter='\\t', names=train_cols)\n",
    "test_cols = ['user_id', 'movie_id', 'rating', 'timestamp', 'predict_rating', 'difference']\n",
    "data_test = pd.read_csv(\"ml-100k/u1.test\", delimiter='\\t', names=test_cols)\n",
    "average_movie_train = data_train.groupby('movie_id')['rating'].mean()\n",
    "average_movie_train_int = average_movie_train.astype(int)\n",
    "avg = average_movie_train_int.values.mean()\n",
    "avg = avg.astype(int)"
   ]
  },
  {
   "cell_type": "heading",
   "metadata": {},
   "level": 1,
   "source": [
    "Preparing Data - Females"
   ]
  },
  {
   "cell_type": "code",
   "execution_count": null,
   "metadata": {},
   "outputs": [],
   "source": []
  },
  {
   "cell_type": "heading",
   "metadata": {},
   "level": 1,
   "source": [
    "User Recommendations - Males"
   ]
  },
  {
   "cell_type": "code",
   "execution_count": null,
   "metadata": {},
   "outputs": [],
   "source": []
  },
  {
   "cell_type": "heading",
   "metadata": {},
   "level": 1,
   "source": [
    "User Recommendations - Females"
   ]
  },
  {
   "cell_type": "code",
   "execution_count": 79,
   "metadata": {},
   "outputs": [],
   "source": []
  },
  {
   "cell_type": "heading",
   "metadata": {},
   "level": 1,
   "source": [
    "MAE - Males"
   ]
  },
  {
   "cell_type": "code",
   "execution_count": null,
   "metadata": {},
   "outputs": [],
   "source": []
  },
  {
   "cell_type": "heading",
   "metadata": {},
   "level": 1,
   "source": [
    "MAE - Females"
   ]
  },
  {
   "cell_type": "code",
   "execution_count": null,
   "metadata": {},
   "outputs": [],
   "source": []
  },
  {
   "cell_type": "heading",
   "metadata": {},
   "level": 1,
   "source": [
    "Recall and Precision - Males"
   ]
  },
  {
   "cell_type": "code",
   "execution_count": null,
   "metadata": {},
   "outputs": [],
   "source": []
  },
  {
   "cell_type": "heading",
   "metadata": {},
   "level": 1,
   "source": [
    "Recall and Precision - Females"
   ]
  },
  {
   "cell_type": "code",
   "execution_count": null,
   "metadata": {},
   "outputs": [],
   "source": []
  }
 ],
 "metadata": {
  "kernelspec": {
   "display_name": "Python 2",
   "language": "python",
   "name": "python2"
  },
  "language_info": {
   "codemirror_mode": {
    "name": "ipython",
    "version": 2
   },
   "file_extension": ".py",
   "mimetype": "text/x-python",
   "name": "python",
   "nbconvert_exporter": "python",
   "pygments_lexer": "ipython2",
   "version": "2.7.6"
  }
 },
 "nbformat": 4,
 "nbformat_minor": 0
}
