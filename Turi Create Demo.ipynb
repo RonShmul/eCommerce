{
 "cells": [
  {
   "cell_type": "code",
   "execution_count": 3,
   "metadata": {},
   "outputs": [],
   "source": [
    "from os import path\n",
    "import turicreate as tc\n",
    "from datetime import datetime"
   ]
  },
  {
   "cell_type": "code",
   "execution_count": 8,
   "metadata": {},
   "outputs": [],
   "source": [
    "data_dir = '/Users/asi.messica/Documents/BGU/ml-20m'"
   ]
  },
  {
   "cell_type": "markdown",
   "metadata": {},
   "source": [
    "<h1> Load Data </h1> MovieLens dataset collected by the GroupLens Research Project at the University of Minnesota. For more information, see http://grouplens.org/datasets/movielens/"
   ]
  },
  {
   "cell_type": "code",
   "execution_count": 9,
   "metadata": {
    "collapsed": false
   },
   "outputs": [
    {
     "data": {
      "text/html": [
       "<pre>Finished parsing file /Users/asi.messica/Documents/BGU/ml-20m/movies.csv</pre>"
      ],
      "text/plain": [
       "Finished parsing file /Users/asi.messica/Documents/BGU/ml-20m/movies.csv"
      ]
     },
     "metadata": {},
     "output_type": "execute_result"
    },
    {
     "data": {
      "text/html": [
       "<pre>Parsing completed. Parsed 100 lines in 0.091689 secs.</pre>"
      ],
      "text/plain": [
       "Parsing completed. Parsed 100 lines in 0.091689 secs."
      ]
     },
     "metadata": {},
     "output_type": "execute_result"
    },
    {
     "name": "stdout",
     "output_type": "stream",
     "text": [
      "------------------------------------------------------\n",
      "Inferred types from first 100 line(s) of file as \n",
      "column_type_hints=[int,str,str]\n",
      "If parsing fails due to incorrect types, you can correct\n",
      "the inferred type list above and pass it to read_csv in\n",
      "the column_type_hints argument\n",
      "------------------------------------------------------\n"
     ]
    },
    {
     "data": {
      "text/html": [
       "<pre>Finished parsing file /Users/asi.messica/Documents/BGU/ml-20m/movies.csv</pre>"
      ],
      "text/plain": [
       "Finished parsing file /Users/asi.messica/Documents/BGU/ml-20m/movies.csv"
      ]
     },
     "metadata": {},
     "output_type": "execute_result"
    },
    {
     "data": {
      "text/html": [
       "<pre>Parsing completed. Parsed 27278 lines in 0.047617 secs.</pre>"
      ],
      "text/plain": [
       "Parsing completed. Parsed 27278 lines in 0.047617 secs."
      ]
     },
     "metadata": {},
     "output_type": "execute_result"
    },
    {
     "data": {
      "text/html": [
       "<pre>Finished parsing file /Users/asi.messica/Documents/BGU/ml-20m/ratings.csv</pre>"
      ],
      "text/plain": [
       "Finished parsing file /Users/asi.messica/Documents/BGU/ml-20m/ratings.csv"
      ]
     },
     "metadata": {},
     "output_type": "execute_result"
    },
    {
     "data": {
      "text/html": [
       "<pre>Parsing completed. Parsed 100 lines in 0.954888 secs.</pre>"
      ],
      "text/plain": [
       "Parsing completed. Parsed 100 lines in 0.954888 secs."
      ]
     },
     "metadata": {},
     "output_type": "execute_result"
    },
    {
     "name": "stdout",
     "output_type": "stream",
     "text": [
      "------------------------------------------------------\n",
      "Inferred types from first 100 line(s) of file as \n",
      "column_type_hints=[int,int,float,int]\n",
      "If parsing fails due to incorrect types, you can correct\n",
      "the inferred type list above and pass it to read_csv in\n",
      "the column_type_hints argument\n",
      "------------------------------------------------------\n"
     ]
    },
    {
     "data": {
      "text/html": [
       "<pre>Read 2042753 lines. Lines per second: 1.37385e+06</pre>"
      ],
      "text/plain": [
       "Read 2042753 lines. Lines per second: 1.37385e+06"
      ]
     },
     "metadata": {},
     "output_type": "execute_result"
    },
    {
     "data": {
      "text/html": [
       "<pre>Read 19667000 lines. Lines per second: 3.04751e+06</pre>"
      ],
      "text/plain": [
       "Read 19667000 lines. Lines per second: 3.04751e+06"
      ]
     },
     "metadata": {},
     "output_type": "execute_result"
    },
    {
     "data": {
      "text/html": [
       "<pre>Finished parsing file /Users/asi.messica/Documents/BGU/ml-20m/ratings.csv</pre>"
      ],
      "text/plain": [
       "Finished parsing file /Users/asi.messica/Documents/BGU/ml-20m/ratings.csv"
      ]
     },
     "metadata": {},
     "output_type": "execute_result"
    },
    {
     "data": {
      "text/html": [
       "<pre>Parsing completed. Parsed 20000263 lines in 6.5153 secs.</pre>"
      ],
      "text/plain": [
       "Parsing completed. Parsed 20000263 lines in 6.5153 secs."
      ]
     },
     "metadata": {},
     "output_type": "execute_result"
    }
   ],
   "source": [
    "# Table of movies we are recommending: movieId, title, genres\n",
    "items = tc.SFrame.read_csv(path.join(data_dir, 'movies.csv'))\n",
    "\n",
    "# Table of interactions between users and items: userId, movieId, rating, timestamp\n",
    "actions = tc.SFrame.read_csv(path.join(data_dir, 'ratings.csv'))\n"
   ]
  },
  {
   "cell_type": "markdown",
   "metadata": {},
   "source": [
    "<h1> Prepare Data </h1>"
   ]
  },
  {
   "cell_type": "code",
   "execution_count": 10,
   "metadata": {},
   "outputs": [],
   "source": [
    "# Prepare the data by removing items that are rare\n",
    "rare_items = actions.groupby('movieId', tc.aggregate.COUNT).sort('Count')\n",
    "rare_items = rare_items[rare_items['Count'] <= 5]\n",
    "items = items.filter_by(rare_items['movieId'], 'movieId', exclude=True)\n",
    "actions = actions.filter_by(rare_items['movieId'], 'movieId', exclude=True)\n",
    "actions['timestamp'] = actions['timestamp'].astype(datetime)"
   ]
  },
  {
   "cell_type": "code",
   "execution_count": 11,
   "metadata": {},
   "outputs": [],
   "source": [
    "# Extract year, title, and genre\n",
    "items['year'] = items['title'].apply(lambda x: x[-5:-1])\n",
    "items['title'] = items['title'].apply(lambda x: x[:-7])\n",
    "items['genres'] = items['genres'].apply(lambda x: x.split('|'))"
   ]
  },
  {
   "cell_type": "markdown",
   "metadata": {},
   "source": [
    "<h1> Train the Model </h1>"
   ]
  },
  {
   "cell_type": "code",
   "execution_count": 14,
   "metadata": {},
   "outputs": [
    {
     "data": {
      "text/html": [
       "<pre>Warning: Ignoring columns rating, timestamp;</pre>"
      ],
      "text/plain": [
       "Warning: Ignoring columns rating, timestamp;"
      ]
     },
     "metadata": {},
     "output_type": "execute_result"
    },
    {
     "data": {
      "text/html": [
       "<pre>    To use one of these as a target column, set target = <column_name></pre>"
      ],
      "text/plain": [
       "    To use one of these as a target column, set target = <column_name>"
      ]
     },
     "metadata": {},
     "output_type": "execute_result"
    },
    {
     "data": {
      "text/html": [
       "<pre>    and use a method that allows the use of a target.</pre>"
      ],
      "text/plain": [
       "    and use a method that allows the use of a target."
      ]
     },
     "metadata": {},
     "output_type": "execute_result"
    },
    {
     "data": {
      "text/html": [
       "<pre>Preparing data set.</pre>"
      ],
      "text/plain": [
       "Preparing data set."
      ]
     },
     "metadata": {},
     "output_type": "execute_result"
    },
    {
     "data": {
      "text/html": [
       "<pre>    Data has 19950681 observations with 138493 users and 17519 items.</pre>"
      ],
      "text/plain": [
       "    Data has 19950681 observations with 138493 users and 17519 items."
      ]
     },
     "metadata": {},
     "output_type": "execute_result"
    },
    {
     "data": {
      "text/html": [
       "<pre>    Data prepared in: 9.55934s</pre>"
      ],
      "text/plain": [
       "    Data prepared in: 9.55934s"
      ]
     },
     "metadata": {},
     "output_type": "execute_result"
    },
    {
     "data": {
      "text/html": [
       "<pre>Training model from provided data.</pre>"
      ],
      "text/plain": [
       "Training model from provided data."
      ]
     },
     "metadata": {},
     "output_type": "execute_result"
    },
    {
     "data": {
      "text/html": [
       "<pre>Gathering per-item and per-user statistics.</pre>"
      ],
      "text/plain": [
       "Gathering per-item and per-user statistics."
      ]
     },
     "metadata": {},
     "output_type": "execute_result"
    },
    {
     "data": {
      "text/html": [
       "<pre>+--------------------------------+------------+</pre>"
      ],
      "text/plain": [
       "+--------------------------------+------------+"
      ]
     },
     "metadata": {},
     "output_type": "execute_result"
    },
    {
     "data": {
      "text/html": [
       "<pre>| Elapsed Time (Item Statistics) | % Complete |</pre>"
      ],
      "text/plain": [
       "| Elapsed Time (Item Statistics) | % Complete |"
      ]
     },
     "metadata": {},
     "output_type": "execute_result"
    },
    {
     "data": {
      "text/html": [
       "<pre>+--------------------------------+------------+</pre>"
      ],
      "text/plain": [
       "+--------------------------------+------------+"
      ]
     },
     "metadata": {},
     "output_type": "execute_result"
    },
    {
     "data": {
      "text/html": [
       "<pre>| 11.825ms                       | 1.25       |</pre>"
      ],
      "text/plain": [
       "| 11.825ms                       | 1.25       |"
      ]
     },
     "metadata": {},
     "output_type": "execute_result"
    },
    {
     "data": {
      "text/html": [
       "<pre>| 545.586ms                      | 100        |</pre>"
      ],
      "text/plain": [
       "| 545.586ms                      | 100        |"
      ]
     },
     "metadata": {},
     "output_type": "execute_result"
    },
    {
     "data": {
      "text/html": [
       "<pre>+--------------------------------+------------+</pre>"
      ],
      "text/plain": [
       "+--------------------------------+------------+"
      ]
     },
     "metadata": {},
     "output_type": "execute_result"
    },
    {
     "data": {
      "text/html": [
       "<pre>Setting up lookup tables.</pre>"
      ],
      "text/plain": [
       "Setting up lookup tables."
      ]
     },
     "metadata": {},
     "output_type": "execute_result"
    },
    {
     "data": {
      "text/html": [
       "<pre>Processing data in one pass using dense lookup tables.</pre>"
      ],
      "text/plain": [
       "Processing data in one pass using dense lookup tables."
      ]
     },
     "metadata": {},
     "output_type": "execute_result"
    },
    {
     "data": {
      "text/html": [
       "<pre>+-------------------------------------+------------------+-----------------+</pre>"
      ],
      "text/plain": [
       "+-------------------------------------+------------------+-----------------+"
      ]
     },
     "metadata": {},
     "output_type": "execute_result"
    },
    {
     "data": {
      "text/html": [
       "<pre>| Elapsed Time (Constructing Lookups) | Total % Complete | Items Processed |</pre>"
      ],
      "text/plain": [
       "| Elapsed Time (Constructing Lookups) | Total % Complete | Items Processed |"
      ]
     },
     "metadata": {},
     "output_type": "execute_result"
    },
    {
     "data": {
      "text/html": [
       "<pre>+-------------------------------------+------------------+-----------------+</pre>"
      ],
      "text/plain": [
       "+-------------------------------------+------------------+-----------------+"
      ]
     },
     "metadata": {},
     "output_type": "execute_result"
    },
    {
     "data": {
      "text/html": [
       "<pre>| 1.13s                               | 0                | 0               |</pre>"
      ],
      "text/plain": [
       "| 1.13s                               | 0                | 0               |"
      ]
     },
     "metadata": {},
     "output_type": "execute_result"
    },
    {
     "data": {
      "text/html": [
       "<pre>| 4.15s                               | 7.5              | 1346            |</pre>"
      ],
      "text/plain": [
       "| 4.15s                               | 7.5              | 1346            |"
      ]
     },
     "metadata": {},
     "output_type": "execute_result"
    },
    {
     "data": {
      "text/html": [
       "<pre>| 7.14s                               | 13.5             | 2395            |</pre>"
      ],
      "text/plain": [
       "| 7.14s                               | 13.5             | 2395            |"
      ]
     },
     "metadata": {},
     "output_type": "execute_result"
    },
    {
     "data": {
      "text/html": [
       "<pre>| 10.14s                              | 19.25            | 3405            |</pre>"
      ],
      "text/plain": [
       "| 10.14s                              | 19.25            | 3405            |"
      ]
     },
     "metadata": {},
     "output_type": "execute_result"
    },
    {
     "data": {
      "text/html": [
       "<pre>| 13.14s                              | 25.5             | 4494            |</pre>"
      ],
      "text/plain": [
       "| 13.14s                              | 25.5             | 4494            |"
      ]
     },
     "metadata": {},
     "output_type": "execute_result"
    },
    {
     "data": {
      "text/html": [
       "<pre>| 16.15s                              | 31.75            | 5574            |</pre>"
      ],
      "text/plain": [
       "| 16.15s                              | 31.75            | 5574            |"
      ]
     },
     "metadata": {},
     "output_type": "execute_result"
    },
    {
     "data": {
      "text/html": [
       "<pre>| 19.15s                              | 38               | 6676            |</pre>"
      ],
      "text/plain": [
       "| 19.15s                              | 38               | 6676            |"
      ]
     },
     "metadata": {},
     "output_type": "execute_result"
    },
    {
     "data": {
      "text/html": [
       "<pre>| 22.16s                              | 45.5             | 7993            |</pre>"
      ],
      "text/plain": [
       "| 22.16s                              | 45.5             | 7993            |"
      ]
     },
     "metadata": {},
     "output_type": "execute_result"
    },
    {
     "data": {
      "text/html": [
       "<pre>| 25.16s                              | 50.5             | 8848            |</pre>"
      ],
      "text/plain": [
       "| 25.16s                              | 50.5             | 8848            |"
      ]
     },
     "metadata": {},
     "output_type": "execute_result"
    },
    {
     "data": {
      "text/html": [
       "<pre>| 28.16s                              | 56.5             | 9916            |</pre>"
      ],
      "text/plain": [
       "| 28.16s                              | 56.5             | 9916            |"
      ]
     },
     "metadata": {},
     "output_type": "execute_result"
    },
    {
     "data": {
      "text/html": [
       "<pre>| 31.16s                              | 61               | 10689           |</pre>"
      ],
      "text/plain": [
       "| 31.16s                              | 61               | 10689           |"
      ]
     },
     "metadata": {},
     "output_type": "execute_result"
    },
    {
     "data": {
      "text/html": [
       "<pre>| 34.17s                              | 65.5             | 11487           |</pre>"
      ],
      "text/plain": [
       "| 34.17s                              | 65.5             | 11487           |"
      ]
     },
     "metadata": {},
     "output_type": "execute_result"
    },
    {
     "data": {
      "text/html": [
       "<pre>| 37.16s                              | 72.25            | 12689           |</pre>"
      ],
      "text/plain": [
       "| 37.16s                              | 72.25            | 12689           |"
      ]
     },
     "metadata": {},
     "output_type": "execute_result"
    },
    {
     "data": {
      "text/html": [
       "<pre>| 40.17s                              | 79.75            | 13979           |</pre>"
      ],
      "text/plain": [
       "| 40.17s                              | 79.75            | 13979           |"
      ]
     },
     "metadata": {},
     "output_type": "execute_result"
    },
    {
     "data": {
      "text/html": [
       "<pre>| 43.17s                              | 87               | 15269           |</pre>"
      ],
      "text/plain": [
       "| 43.17s                              | 87               | 15269           |"
      ]
     },
     "metadata": {},
     "output_type": "execute_result"
    },
    {
     "data": {
      "text/html": [
       "<pre>| 46.17s                              | 93.25            | 16359           |</pre>"
      ],
      "text/plain": [
       "| 46.17s                              | 93.25            | 16359           |"
      ]
     },
     "metadata": {},
     "output_type": "execute_result"
    },
    {
     "data": {
      "text/html": [
       "<pre>| 49.17s                              | 97.75            | 17144           |</pre>"
      ],
      "text/plain": [
       "| 49.17s                              | 97.75            | 17144           |"
      ]
     },
     "metadata": {},
     "output_type": "execute_result"
    },
    {
     "data": {
      "text/html": [
       "<pre>| 55.34s                              | 100              | 17519           |</pre>"
      ],
      "text/plain": [
       "| 55.34s                              | 100              | 17519           |"
      ]
     },
     "metadata": {},
     "output_type": "execute_result"
    },
    {
     "data": {
      "text/html": [
       "<pre>+-------------------------------------+------------------+-----------------+</pre>"
      ],
      "text/plain": [
       "+-------------------------------------+------------------+-----------------+"
      ]
     },
     "metadata": {},
     "output_type": "execute_result"
    },
    {
     "data": {
      "text/html": [
       "<pre>Finalizing lookup tables.</pre>"
      ],
      "text/plain": [
       "Finalizing lookup tables."
      ]
     },
     "metadata": {},
     "output_type": "execute_result"
    },
    {
     "data": {
      "text/html": [
       "<pre>Generating candidate set for working with new users.</pre>"
      ],
      "text/plain": [
       "Generating candidate set for working with new users."
      ]
     },
     "metadata": {},
     "output_type": "execute_result"
    },
    {
     "data": {
      "text/html": [
       "<pre>Finished training in 57.4105s</pre>"
      ],
      "text/plain": [
       "Finished training in 57.4105s"
      ]
     },
     "metadata": {},
     "output_type": "execute_result"
    }
   ],
   "source": [
    "training_data, validation_data = tc.recommender.util.random_split_by_user(actions, 'userId', 'movieId')\n",
    "model = tc.recommender.create(training_data, 'userId', 'movieId')"
   ]
  },
  {
   "cell_type": "markdown",
   "metadata": {},
   "source": [
    "<h1> Model Predict </h1>"
   ]
  },
  {
   "cell_type": "code",
   "execution_count": 15,
   "metadata": {},
   "outputs": [
    {
     "data": {
      "text/html": [
       "<pre>recommendations finished on 1000/138493 queries. users per second: 8039.94</pre>"
      ],
      "text/plain": [
       "recommendations finished on 1000/138493 queries. users per second: 8039.94"
      ]
     },
     "metadata": {},
     "output_type": "execute_result"
    },
    {
     "data": {
      "text/html": [
       "<pre>recommendations finished on 2000/138493 queries. users per second: 8644.05</pre>"
      ],
      "text/plain": [
       "recommendations finished on 2000/138493 queries. users per second: 8644.05"
      ]
     },
     "metadata": {},
     "output_type": "execute_result"
    },
    {
     "data": {
      "text/html": [
       "<pre>recommendations finished on 3000/138493 queries. users per second: 8853.66</pre>"
      ],
      "text/plain": [
       "recommendations finished on 3000/138493 queries. users per second: 8853.66"
      ]
     },
     "metadata": {},
     "output_type": "execute_result"
    },
    {
     "data": {
      "text/html": [
       "<pre>recommendations finished on 4000/138493 queries. users per second: 8976.74</pre>"
      ],
      "text/plain": [
       "recommendations finished on 4000/138493 queries. users per second: 8976.74"
      ]
     },
     "metadata": {},
     "output_type": "execute_result"
    },
    {
     "data": {
      "text/html": [
       "<pre>recommendations finished on 5000/138493 queries. users per second: 9150.79</pre>"
      ],
      "text/plain": [
       "recommendations finished on 5000/138493 queries. users per second: 9150.79"
      ]
     },
     "metadata": {},
     "output_type": "execute_result"
    },
    {
     "data": {
      "text/html": [
       "<pre>recommendations finished on 6000/138493 queries. users per second: 9086.27</pre>"
      ],
      "text/plain": [
       "recommendations finished on 6000/138493 queries. users per second: 9086.27"
      ]
     },
     "metadata": {},
     "output_type": "execute_result"
    },
    {
     "data": {
      "text/html": [
       "<pre>recommendations finished on 7000/138493 queries. users per second: 9095.75</pre>"
      ],
      "text/plain": [
       "recommendations finished on 7000/138493 queries. users per second: 9095.75"
      ]
     },
     "metadata": {},
     "output_type": "execute_result"
    },
    {
     "data": {
      "text/html": [
       "<pre>recommendations finished on 8000/138493 queries. users per second: 9166.32</pre>"
      ],
      "text/plain": [
       "recommendations finished on 8000/138493 queries. users per second: 9166.32"
      ]
     },
     "metadata": {},
     "output_type": "execute_result"
    },
    {
     "data": {
      "text/html": [
       "<pre>recommendations finished on 9000/138493 queries. users per second: 9256.22</pre>"
      ],
      "text/plain": [
       "recommendations finished on 9000/138493 queries. users per second: 9256.22"
      ]
     },
     "metadata": {},
     "output_type": "execute_result"
    },
    {
     "data": {
      "text/html": [
       "<pre>recommendations finished on 10000/138493 queries. users per second: 9321.59</pre>"
      ],
      "text/plain": [
       "recommendations finished on 10000/138493 queries. users per second: 9321.59"
      ]
     },
     "metadata": {},
     "output_type": "execute_result"
    },
    {
     "data": {
      "text/html": [
       "<pre>recommendations finished on 11000/138493 queries. users per second: 9303.45</pre>"
      ],
      "text/plain": [
       "recommendations finished on 11000/138493 queries. users per second: 9303.45"
      ]
     },
     "metadata": {},
     "output_type": "execute_result"
    },
    {
     "data": {
      "text/html": [
       "<pre>recommendations finished on 12000/138493 queries. users per second: 9372.39</pre>"
      ],
      "text/plain": [
       "recommendations finished on 12000/138493 queries. users per second: 9372.39"
      ]
     },
     "metadata": {},
     "output_type": "execute_result"
    },
    {
     "data": {
      "text/html": [
       "<pre>recommendations finished on 13000/138493 queries. users per second: 9178.64</pre>"
      ],
      "text/plain": [
       "recommendations finished on 13000/138493 queries. users per second: 9178.64"
      ]
     },
     "metadata": {},
     "output_type": "execute_result"
    },
    {
     "data": {
      "text/html": [
       "<pre>recommendations finished on 14000/138493 queries. users per second: 9019.69</pre>"
      ],
      "text/plain": [
       "recommendations finished on 14000/138493 queries. users per second: 9019.69"
      ]
     },
     "metadata": {},
     "output_type": "execute_result"
    },
    {
     "data": {
      "text/html": [
       "<pre>recommendations finished on 15000/138493 queries. users per second: 9038.58</pre>"
      ],
      "text/plain": [
       "recommendations finished on 15000/138493 queries. users per second: 9038.58"
      ]
     },
     "metadata": {},
     "output_type": "execute_result"
    },
    {
     "data": {
      "text/html": [
       "<pre>recommendations finished on 16000/138493 queries. users per second: 9103.51</pre>"
      ],
      "text/plain": [
       "recommendations finished on 16000/138493 queries. users per second: 9103.51"
      ]
     },
     "metadata": {},
     "output_type": "execute_result"
    },
    {
     "data": {
      "text/html": [
       "<pre>recommendations finished on 17000/138493 queries. users per second: 9165.49</pre>"
      ],
      "text/plain": [
       "recommendations finished on 17000/138493 queries. users per second: 9165.49"
      ]
     },
     "metadata": {},
     "output_type": "execute_result"
    },
    {
     "data": {
      "text/html": [
       "<pre>recommendations finished on 18000/138493 queries. users per second: 9225.47</pre>"
      ],
      "text/plain": [
       "recommendations finished on 18000/138493 queries. users per second: 9225.47"
      ]
     },
     "metadata": {},
     "output_type": "execute_result"
    },
    {
     "data": {
      "text/html": [
       "<pre>recommendations finished on 19000/138493 queries. users per second: 9258.83</pre>"
      ],
      "text/plain": [
       "recommendations finished on 19000/138493 queries. users per second: 9258.83"
      ]
     },
     "metadata": {},
     "output_type": "execute_result"
    },
    {
     "data": {
      "text/html": [
       "<pre>recommendations finished on 20000/138493 queries. users per second: 9289.31</pre>"
      ],
      "text/plain": [
       "recommendations finished on 20000/138493 queries. users per second: 9289.31"
      ]
     },
     "metadata": {},
     "output_type": "execute_result"
    },
    {
     "data": {
      "text/html": [
       "<pre>recommendations finished on 21000/138493 queries. users per second: 9311.38</pre>"
      ],
      "text/plain": [
       "recommendations finished on 21000/138493 queries. users per second: 9311.38"
      ]
     },
     "metadata": {},
     "output_type": "execute_result"
    },
    {
     "data": {
      "text/html": [
       "<pre>recommendations finished on 22000/138493 queries. users per second: 9337.43</pre>"
      ],
      "text/plain": [
       "recommendations finished on 22000/138493 queries. users per second: 9337.43"
      ]
     },
     "metadata": {},
     "output_type": "execute_result"
    },
    {
     "data": {
      "text/html": [
       "<pre>recommendations finished on 23000/138493 queries. users per second: 9248.25</pre>"
      ],
      "text/plain": [
       "recommendations finished on 23000/138493 queries. users per second: 9248.25"
      ]
     },
     "metadata": {},
     "output_type": "execute_result"
    },
    {
     "data": {
      "text/html": [
       "<pre>recommendations finished on 24000/138493 queries. users per second: 9179.54</pre>"
      ],
      "text/plain": [
       "recommendations finished on 24000/138493 queries. users per second: 9179.54"
      ]
     },
     "metadata": {},
     "output_type": "execute_result"
    },
    {
     "data": {
      "text/html": [
       "<pre>recommendations finished on 25000/138493 queries. users per second: 9150.13</pre>"
      ],
      "text/plain": [
       "recommendations finished on 25000/138493 queries. users per second: 9150.13"
      ]
     },
     "metadata": {},
     "output_type": "execute_result"
    },
    {
     "data": {
      "text/html": [
       "<pre>recommendations finished on 26000/138493 queries. users per second: 9069.29</pre>"
      ],
      "text/plain": [
       "recommendations finished on 26000/138493 queries. users per second: 9069.29"
      ]
     },
     "metadata": {},
     "output_type": "execute_result"
    },
    {
     "data": {
      "text/html": [
       "<pre>recommendations finished on 27000/138493 queries. users per second: 9040.6</pre>"
      ],
      "text/plain": [
       "recommendations finished on 27000/138493 queries. users per second: 9040.6"
      ]
     },
     "metadata": {},
     "output_type": "execute_result"
    },
    {
     "data": {
      "text/html": [
       "<pre>recommendations finished on 28000/138493 queries. users per second: 9032.77</pre>"
      ],
      "text/plain": [
       "recommendations finished on 28000/138493 queries. users per second: 9032.77"
      ]
     },
     "metadata": {},
     "output_type": "execute_result"
    },
    {
     "data": {
      "text/html": [
       "<pre>recommendations finished on 29000/138493 queries. users per second: 9017.09</pre>"
      ],
      "text/plain": [
       "recommendations finished on 29000/138493 queries. users per second: 9017.09"
      ]
     },
     "metadata": {},
     "output_type": "execute_result"
    },
    {
     "data": {
      "text/html": [
       "<pre>recommendations finished on 30000/138493 queries. users per second: 8957.73</pre>"
      ],
      "text/plain": [
       "recommendations finished on 30000/138493 queries. users per second: 8957.73"
      ]
     },
     "metadata": {},
     "output_type": "execute_result"
    },
    {
     "data": {
      "text/html": [
       "<pre>recommendations finished on 31000/138493 queries. users per second: 8926.75</pre>"
      ],
      "text/plain": [
       "recommendations finished on 31000/138493 queries. users per second: 8926.75"
      ]
     },
     "metadata": {},
     "output_type": "execute_result"
    },
    {
     "data": {
      "text/html": [
       "<pre>recommendations finished on 32000/138493 queries. users per second: 8933.47</pre>"
      ],
      "text/plain": [
       "recommendations finished on 32000/138493 queries. users per second: 8933.47"
      ]
     },
     "metadata": {},
     "output_type": "execute_result"
    },
    {
     "data": {
      "text/html": [
       "<pre>recommendations finished on 33000/138493 queries. users per second: 8939</pre>"
      ],
      "text/plain": [
       "recommendations finished on 33000/138493 queries. users per second: 8939"
      ]
     },
     "metadata": {},
     "output_type": "execute_result"
    },
    {
     "data": {
      "text/html": [
       "<pre>recommendations finished on 34000/138493 queries. users per second: 8928.81</pre>"
      ],
      "text/plain": [
       "recommendations finished on 34000/138493 queries. users per second: 8928.81"
      ]
     },
     "metadata": {},
     "output_type": "execute_result"
    },
    {
     "data": {
      "text/html": [
       "<pre>recommendations finished on 35000/138493 queries. users per second: 8934.24</pre>"
      ],
      "text/plain": [
       "recommendations finished on 35000/138493 queries. users per second: 8934.24"
      ]
     },
     "metadata": {},
     "output_type": "execute_result"
    },
    {
     "data": {
      "text/html": [
       "<pre>recommendations finished on 36000/138493 queries. users per second: 8933.83</pre>"
      ],
      "text/plain": [
       "recommendations finished on 36000/138493 queries. users per second: 8933.83"
      ]
     },
     "metadata": {},
     "output_type": "execute_result"
    },
    {
     "data": {
      "text/html": [
       "<pre>recommendations finished on 37000/138493 queries. users per second: 8920.99</pre>"
      ],
      "text/plain": [
       "recommendations finished on 37000/138493 queries. users per second: 8920.99"
      ]
     },
     "metadata": {},
     "output_type": "execute_result"
    },
    {
     "data": {
      "text/html": [
       "<pre>recommendations finished on 38000/138493 queries. users per second: 8924.84</pre>"
      ],
      "text/plain": [
       "recommendations finished on 38000/138493 queries. users per second: 8924.84"
      ]
     },
     "metadata": {},
     "output_type": "execute_result"
    },
    {
     "data": {
      "text/html": [
       "<pre>recommendations finished on 39000/138493 queries. users per second: 8946.96</pre>"
      ],
      "text/plain": [
       "recommendations finished on 39000/138493 queries. users per second: 8946.96"
      ]
     },
     "metadata": {},
     "output_type": "execute_result"
    },
    {
     "data": {
      "text/html": [
       "<pre>recommendations finished on 40000/138493 queries. users per second: 8966.76</pre>"
      ],
      "text/plain": [
       "recommendations finished on 40000/138493 queries. users per second: 8966.76"
      ]
     },
     "metadata": {},
     "output_type": "execute_result"
    },
    {
     "data": {
      "text/html": [
       "<pre>recommendations finished on 41000/138493 queries. users per second: 8992.74</pre>"
      ],
      "text/plain": [
       "recommendations finished on 41000/138493 queries. users per second: 8992.74"
      ]
     },
     "metadata": {},
     "output_type": "execute_result"
    },
    {
     "data": {
      "text/html": [
       "<pre>recommendations finished on 42000/138493 queries. users per second: 9004.55</pre>"
      ],
      "text/plain": [
       "recommendations finished on 42000/138493 queries. users per second: 9004.55"
      ]
     },
     "metadata": {},
     "output_type": "execute_result"
    },
    {
     "data": {
      "text/html": [
       "<pre>recommendations finished on 43000/138493 queries. users per second: 8996.58</pre>"
      ],
      "text/plain": [
       "recommendations finished on 43000/138493 queries. users per second: 8996.58"
      ]
     },
     "metadata": {},
     "output_type": "execute_result"
    },
    {
     "data": {
      "text/html": [
       "<pre>recommendations finished on 44000/138493 queries. users per second: 8962.9</pre>"
      ],
      "text/plain": [
       "recommendations finished on 44000/138493 queries. users per second: 8962.9"
      ]
     },
     "metadata": {},
     "output_type": "execute_result"
    },
    {
     "data": {
      "text/html": [
       "<pre>recommendations finished on 45000/138493 queries. users per second: 8942.75</pre>"
      ],
      "text/plain": [
       "recommendations finished on 45000/138493 queries. users per second: 8942.75"
      ]
     },
     "metadata": {},
     "output_type": "execute_result"
    },
    {
     "data": {
      "text/html": [
       "<pre>recommendations finished on 46000/138493 queries. users per second: 8933.85</pre>"
      ],
      "text/plain": [
       "recommendations finished on 46000/138493 queries. users per second: 8933.85"
      ]
     },
     "metadata": {},
     "output_type": "execute_result"
    },
    {
     "data": {
      "text/html": [
       "<pre>recommendations finished on 47000/138493 queries. users per second: 8923.21</pre>"
      ],
      "text/plain": [
       "recommendations finished on 47000/138493 queries. users per second: 8923.21"
      ]
     },
     "metadata": {},
     "output_type": "execute_result"
    },
    {
     "data": {
      "text/html": [
       "<pre>recommendations finished on 48000/138493 queries. users per second: 8911.01</pre>"
      ],
      "text/plain": [
       "recommendations finished on 48000/138493 queries. users per second: 8911.01"
      ]
     },
     "metadata": {},
     "output_type": "execute_result"
    },
    {
     "data": {
      "text/html": [
       "<pre>recommendations finished on 49000/138493 queries. users per second: 8887.65</pre>"
      ],
      "text/plain": [
       "recommendations finished on 49000/138493 queries. users per second: 8887.65"
      ]
     },
     "metadata": {},
     "output_type": "execute_result"
    },
    {
     "data": {
      "text/html": [
       "<pre>recommendations finished on 50000/138493 queries. users per second: 8887.71</pre>"
      ],
      "text/plain": [
       "recommendations finished on 50000/138493 queries. users per second: 8887.71"
      ]
     },
     "metadata": {},
     "output_type": "execute_result"
    },
    {
     "data": {
      "text/html": [
       "<pre>recommendations finished on 51000/138493 queries. users per second: 8878.29</pre>"
      ],
      "text/plain": [
       "recommendations finished on 51000/138493 queries. users per second: 8878.29"
      ]
     },
     "metadata": {},
     "output_type": "execute_result"
    },
    {
     "data": {
      "text/html": [
       "<pre>recommendations finished on 52000/138493 queries. users per second: 8884.71</pre>"
      ],
      "text/plain": [
       "recommendations finished on 52000/138493 queries. users per second: 8884.71"
      ]
     },
     "metadata": {},
     "output_type": "execute_result"
    },
    {
     "data": {
      "text/html": [
       "<pre>recommendations finished on 53000/138493 queries. users per second: 8888.7</pre>"
      ],
      "text/plain": [
       "recommendations finished on 53000/138493 queries. users per second: 8888.7"
      ]
     },
     "metadata": {},
     "output_type": "execute_result"
    },
    {
     "data": {
      "text/html": [
       "<pre>recommendations finished on 54000/138493 queries. users per second: 8905.7</pre>"
      ],
      "text/plain": [
       "recommendations finished on 54000/138493 queries. users per second: 8905.7"
      ]
     },
     "metadata": {},
     "output_type": "execute_result"
    },
    {
     "data": {
      "text/html": [
       "<pre>recommendations finished on 55000/138493 queries. users per second: 8921.42</pre>"
      ],
      "text/plain": [
       "recommendations finished on 55000/138493 queries. users per second: 8921.42"
      ]
     },
     "metadata": {},
     "output_type": "execute_result"
    },
    {
     "data": {
      "text/html": [
       "<pre>recommendations finished on 56000/138493 queries. users per second: 8893.55</pre>"
      ],
      "text/plain": [
       "recommendations finished on 56000/138493 queries. users per second: 8893.55"
      ]
     },
     "metadata": {},
     "output_type": "execute_result"
    },
    {
     "data": {
      "text/html": [
       "<pre>recommendations finished on 57000/138493 queries. users per second: 8879.64</pre>"
      ],
      "text/plain": [
       "recommendations finished on 57000/138493 queries. users per second: 8879.64"
      ]
     },
     "metadata": {},
     "output_type": "execute_result"
    },
    {
     "data": {
      "text/html": [
       "<pre>recommendations finished on 58000/138493 queries. users per second: 8828.82</pre>"
      ],
      "text/plain": [
       "recommendations finished on 58000/138493 queries. users per second: 8828.82"
      ]
     },
     "metadata": {},
     "output_type": "execute_result"
    },
    {
     "data": {
      "text/html": [
       "<pre>recommendations finished on 59000/138493 queries. users per second: 8847.43</pre>"
      ],
      "text/plain": [
       "recommendations finished on 59000/138493 queries. users per second: 8847.43"
      ]
     },
     "metadata": {},
     "output_type": "execute_result"
    },
    {
     "data": {
      "text/html": [
       "<pre>recommendations finished on 60000/138493 queries. users per second: 8856.48</pre>"
      ],
      "text/plain": [
       "recommendations finished on 60000/138493 queries. users per second: 8856.48"
      ]
     },
     "metadata": {},
     "output_type": "execute_result"
    },
    {
     "data": {
      "text/html": [
       "<pre>recommendations finished on 61000/138493 queries. users per second: 8875.83</pre>"
      ],
      "text/plain": [
       "recommendations finished on 61000/138493 queries. users per second: 8875.83"
      ]
     },
     "metadata": {},
     "output_type": "execute_result"
    },
    {
     "data": {
      "text/html": [
       "<pre>recommendations finished on 62000/138493 queries. users per second: 8886.38</pre>"
      ],
      "text/plain": [
       "recommendations finished on 62000/138493 queries. users per second: 8886.38"
      ]
     },
     "metadata": {},
     "output_type": "execute_result"
    },
    {
     "data": {
      "text/html": [
       "<pre>recommendations finished on 63000/138493 queries. users per second: 8896.06</pre>"
      ],
      "text/plain": [
       "recommendations finished on 63000/138493 queries. users per second: 8896.06"
      ]
     },
     "metadata": {},
     "output_type": "execute_result"
    },
    {
     "data": {
      "text/html": [
       "<pre>recommendations finished on 64000/138493 queries. users per second: 8886.62</pre>"
      ],
      "text/plain": [
       "recommendations finished on 64000/138493 queries. users per second: 8886.62"
      ]
     },
     "metadata": {},
     "output_type": "execute_result"
    },
    {
     "data": {
      "text/html": [
       "<pre>recommendations finished on 65000/138493 queries. users per second: 8879.93</pre>"
      ],
      "text/plain": [
       "recommendations finished on 65000/138493 queries. users per second: 8879.93"
      ]
     },
     "metadata": {},
     "output_type": "execute_result"
    },
    {
     "data": {
      "text/html": [
       "<pre>recommendations finished on 66000/138493 queries. users per second: 8883.22</pre>"
      ],
      "text/plain": [
       "recommendations finished on 66000/138493 queries. users per second: 8883.22"
      ]
     },
     "metadata": {},
     "output_type": "execute_result"
    },
    {
     "data": {
      "text/html": [
       "<pre>recommendations finished on 67000/138493 queries. users per second: 8790.54</pre>"
      ],
      "text/plain": [
       "recommendations finished on 67000/138493 queries. users per second: 8790.54"
      ]
     },
     "metadata": {},
     "output_type": "execute_result"
    },
    {
     "data": {
      "text/html": [
       "<pre>recommendations finished on 68000/138493 queries. users per second: 8784.26</pre>"
      ],
      "text/plain": [
       "recommendations finished on 68000/138493 queries. users per second: 8784.26"
      ]
     },
     "metadata": {},
     "output_type": "execute_result"
    },
    {
     "data": {
      "text/html": [
       "<pre>recommendations finished on 69000/138493 queries. users per second: 8803.49</pre>"
      ],
      "text/plain": [
       "recommendations finished on 69000/138493 queries. users per second: 8803.49"
      ]
     },
     "metadata": {},
     "output_type": "execute_result"
    },
    {
     "data": {
      "text/html": [
       "<pre>recommendations finished on 70000/138493 queries. users per second: 8819.08</pre>"
      ],
      "text/plain": [
       "recommendations finished on 70000/138493 queries. users per second: 8819.08"
      ]
     },
     "metadata": {},
     "output_type": "execute_result"
    },
    {
     "data": {
      "text/html": [
       "<pre>recommendations finished on 71000/138493 queries. users per second: 8800.86</pre>"
      ],
      "text/plain": [
       "recommendations finished on 71000/138493 queries. users per second: 8800.86"
      ]
     },
     "metadata": {},
     "output_type": "execute_result"
    },
    {
     "data": {
      "text/html": [
       "<pre>recommendations finished on 72000/138493 queries. users per second: 8776.38</pre>"
      ],
      "text/plain": [
       "recommendations finished on 72000/138493 queries. users per second: 8776.38"
      ]
     },
     "metadata": {},
     "output_type": "execute_result"
    },
    {
     "data": {
      "text/html": [
       "<pre>recommendations finished on 73000/138493 queries. users per second: 8753.91</pre>"
      ],
      "text/plain": [
       "recommendations finished on 73000/138493 queries. users per second: 8753.91"
      ]
     },
     "metadata": {},
     "output_type": "execute_result"
    },
    {
     "data": {
      "text/html": [
       "<pre>recommendations finished on 74000/138493 queries. users per second: 8747.22</pre>"
      ],
      "text/plain": [
       "recommendations finished on 74000/138493 queries. users per second: 8747.22"
      ]
     },
     "metadata": {},
     "output_type": "execute_result"
    },
    {
     "data": {
      "text/html": [
       "<pre>recommendations finished on 75000/138493 queries. users per second: 8735.48</pre>"
      ],
      "text/plain": [
       "recommendations finished on 75000/138493 queries. users per second: 8735.48"
      ]
     },
     "metadata": {},
     "output_type": "execute_result"
    },
    {
     "data": {
      "text/html": [
       "<pre>recommendations finished on 76000/138493 queries. users per second: 8737.24</pre>"
      ],
      "text/plain": [
       "recommendations finished on 76000/138493 queries. users per second: 8737.24"
      ]
     },
     "metadata": {},
     "output_type": "execute_result"
    },
    {
     "data": {
      "text/html": [
       "<pre>recommendations finished on 77000/138493 queries. users per second: 8741.69</pre>"
      ],
      "text/plain": [
       "recommendations finished on 77000/138493 queries. users per second: 8741.69"
      ]
     },
     "metadata": {},
     "output_type": "execute_result"
    },
    {
     "data": {
      "text/html": [
       "<pre>recommendations finished on 78000/138493 queries. users per second: 8738.06</pre>"
      ],
      "text/plain": [
       "recommendations finished on 78000/138493 queries. users per second: 8738.06"
      ]
     },
     "metadata": {},
     "output_type": "execute_result"
    },
    {
     "data": {
      "text/html": [
       "<pre>recommendations finished on 79000/138493 queries. users per second: 8729.94</pre>"
      ],
      "text/plain": [
       "recommendations finished on 79000/138493 queries. users per second: 8729.94"
      ]
     },
     "metadata": {},
     "output_type": "execute_result"
    },
    {
     "data": {
      "text/html": [
       "<pre>recommendations finished on 80000/138493 queries. users per second: 8720.13</pre>"
      ],
      "text/plain": [
       "recommendations finished on 80000/138493 queries. users per second: 8720.13"
      ]
     },
     "metadata": {},
     "output_type": "execute_result"
    },
    {
     "data": {
      "text/html": [
       "<pre>recommendations finished on 81000/138493 queries. users per second: 8709.97</pre>"
      ],
      "text/plain": [
       "recommendations finished on 81000/138493 queries. users per second: 8709.97"
      ]
     },
     "metadata": {},
     "output_type": "execute_result"
    },
    {
     "data": {
      "text/html": [
       "<pre>recommendations finished on 82000/138493 queries. users per second: 8703.25</pre>"
      ],
      "text/plain": [
       "recommendations finished on 82000/138493 queries. users per second: 8703.25"
      ]
     },
     "metadata": {},
     "output_type": "execute_result"
    },
    {
     "data": {
      "text/html": [
       "<pre>recommendations finished on 83000/138493 queries. users per second: 8666.78</pre>"
      ],
      "text/plain": [
       "recommendations finished on 83000/138493 queries. users per second: 8666.78"
      ]
     },
     "metadata": {},
     "output_type": "execute_result"
    },
    {
     "data": {
      "text/html": [
       "<pre>recommendations finished on 84000/138493 queries. users per second: 8634.98</pre>"
      ],
      "text/plain": [
       "recommendations finished on 84000/138493 queries. users per second: 8634.98"
      ]
     },
     "metadata": {},
     "output_type": "execute_result"
    },
    {
     "data": {
      "text/html": [
       "<pre>recommendations finished on 85000/138493 queries. users per second: 8628.19</pre>"
      ],
      "text/plain": [
       "recommendations finished on 85000/138493 queries. users per second: 8628.19"
      ]
     },
     "metadata": {},
     "output_type": "execute_result"
    },
    {
     "data": {
      "text/html": [
       "<pre>recommendations finished on 86000/138493 queries. users per second: 8626.29</pre>"
      ],
      "text/plain": [
       "recommendations finished on 86000/138493 queries. users per second: 8626.29"
      ]
     },
     "metadata": {},
     "output_type": "execute_result"
    },
    {
     "data": {
      "text/html": [
       "<pre>recommendations finished on 87000/138493 queries. users per second: 8630.49</pre>"
      ],
      "text/plain": [
       "recommendations finished on 87000/138493 queries. users per second: 8630.49"
      ]
     },
     "metadata": {},
     "output_type": "execute_result"
    },
    {
     "data": {
      "text/html": [
       "<pre>recommendations finished on 88000/138493 queries. users per second: 8635.52</pre>"
      ],
      "text/plain": [
       "recommendations finished on 88000/138493 queries. users per second: 8635.52"
      ]
     },
     "metadata": {},
     "output_type": "execute_result"
    },
    {
     "data": {
      "text/html": [
       "<pre>recommendations finished on 89000/138493 queries. users per second: 8624.81</pre>"
      ],
      "text/plain": [
       "recommendations finished on 89000/138493 queries. users per second: 8624.81"
      ]
     },
     "metadata": {},
     "output_type": "execute_result"
    },
    {
     "data": {
      "text/html": [
       "<pre>recommendations finished on 90000/138493 queries. users per second: 8620.6</pre>"
      ],
      "text/plain": [
       "recommendations finished on 90000/138493 queries. users per second: 8620.6"
      ]
     },
     "metadata": {},
     "output_type": "execute_result"
    },
    {
     "data": {
      "text/html": [
       "<pre>recommendations finished on 91000/138493 queries. users per second: 8618.21</pre>"
      ],
      "text/plain": [
       "recommendations finished on 91000/138493 queries. users per second: 8618.21"
      ]
     },
     "metadata": {},
     "output_type": "execute_result"
    },
    {
     "data": {
      "text/html": [
       "<pre>recommendations finished on 92000/138493 queries. users per second: 8627.71</pre>"
      ],
      "text/plain": [
       "recommendations finished on 92000/138493 queries. users per second: 8627.71"
      ]
     },
     "metadata": {},
     "output_type": "execute_result"
    },
    {
     "data": {
      "text/html": [
       "<pre>recommendations finished on 93000/138493 queries. users per second: 8630.75</pre>"
      ],
      "text/plain": [
       "recommendations finished on 93000/138493 queries. users per second: 8630.75"
      ]
     },
     "metadata": {},
     "output_type": "execute_result"
    },
    {
     "data": {
      "text/html": [
       "<pre>recommendations finished on 94000/138493 queries. users per second: 8632.64</pre>"
      ],
      "text/plain": [
       "recommendations finished on 94000/138493 queries. users per second: 8632.64"
      ]
     },
     "metadata": {},
     "output_type": "execute_result"
    },
    {
     "data": {
      "text/html": [
       "<pre>recommendations finished on 95000/138493 queries. users per second: 8642.65</pre>"
      ],
      "text/plain": [
       "recommendations finished on 95000/138493 queries. users per second: 8642.65"
      ]
     },
     "metadata": {},
     "output_type": "execute_result"
    },
    {
     "data": {
      "text/html": [
       "<pre>recommendations finished on 96000/138493 queries. users per second: 8650.84</pre>"
      ],
      "text/plain": [
       "recommendations finished on 96000/138493 queries. users per second: 8650.84"
      ]
     },
     "metadata": {},
     "output_type": "execute_result"
    },
    {
     "data": {
      "text/html": [
       "<pre>recommendations finished on 97000/138493 queries. users per second: 8659.09</pre>"
      ],
      "text/plain": [
       "recommendations finished on 97000/138493 queries. users per second: 8659.09"
      ]
     },
     "metadata": {},
     "output_type": "execute_result"
    },
    {
     "data": {
      "text/html": [
       "<pre>recommendations finished on 98000/138493 queries. users per second: 8642.39</pre>"
      ],
      "text/plain": [
       "recommendations finished on 98000/138493 queries. users per second: 8642.39"
      ]
     },
     "metadata": {},
     "output_type": "execute_result"
    },
    {
     "data": {
      "text/html": [
       "<pre>recommendations finished on 99000/138493 queries. users per second: 8632.38</pre>"
      ],
      "text/plain": [
       "recommendations finished on 99000/138493 queries. users per second: 8632.38"
      ]
     },
     "metadata": {},
     "output_type": "execute_result"
    },
    {
     "data": {
      "text/html": [
       "<pre>recommendations finished on 100000/138493 queries. users per second: 8623.15</pre>"
      ],
      "text/plain": [
       "recommendations finished on 100000/138493 queries. users per second: 8623.15"
      ]
     },
     "metadata": {},
     "output_type": "execute_result"
    },
    {
     "data": {
      "text/html": [
       "<pre>recommendations finished on 101000/138493 queries. users per second: 8620.96</pre>"
      ],
      "text/plain": [
       "recommendations finished on 101000/138493 queries. users per second: 8620.96"
      ]
     },
     "metadata": {},
     "output_type": "execute_result"
    },
    {
     "data": {
      "text/html": [
       "<pre>recommendations finished on 102000/138493 queries. users per second: 8616.35</pre>"
      ],
      "text/plain": [
       "recommendations finished on 102000/138493 queries. users per second: 8616.35"
      ]
     },
     "metadata": {},
     "output_type": "execute_result"
    },
    {
     "data": {
      "text/html": [
       "<pre>recommendations finished on 103000/138493 queries. users per second: 8613.66</pre>"
      ],
      "text/plain": [
       "recommendations finished on 103000/138493 queries. users per second: 8613.66"
      ]
     },
     "metadata": {},
     "output_type": "execute_result"
    },
    {
     "data": {
      "text/html": [
       "<pre>recommendations finished on 104000/138493 queries. users per second: 8611.74</pre>"
      ],
      "text/plain": [
       "recommendations finished on 104000/138493 queries. users per second: 8611.74"
      ]
     },
     "metadata": {},
     "output_type": "execute_result"
    },
    {
     "data": {
      "text/html": [
       "<pre>recommendations finished on 105000/138493 queries. users per second: 8599.86</pre>"
      ],
      "text/plain": [
       "recommendations finished on 105000/138493 queries. users per second: 8599.86"
      ]
     },
     "metadata": {},
     "output_type": "execute_result"
    },
    {
     "data": {
      "text/html": [
       "<pre>recommendations finished on 106000/138493 queries. users per second: 8591.36</pre>"
      ],
      "text/plain": [
       "recommendations finished on 106000/138493 queries. users per second: 8591.36"
      ]
     },
     "metadata": {},
     "output_type": "execute_result"
    },
    {
     "data": {
      "text/html": [
       "<pre>recommendations finished on 107000/138493 queries. users per second: 8582.88</pre>"
      ],
      "text/plain": [
       "recommendations finished on 107000/138493 queries. users per second: 8582.88"
      ]
     },
     "metadata": {},
     "output_type": "execute_result"
    },
    {
     "data": {
      "text/html": [
       "<pre>recommendations finished on 108000/138493 queries. users per second: 8573.03</pre>"
      ],
      "text/plain": [
       "recommendations finished on 108000/138493 queries. users per second: 8573.03"
      ]
     },
     "metadata": {},
     "output_type": "execute_result"
    },
    {
     "data": {
      "text/html": [
       "<pre>recommendations finished on 109000/138493 queries. users per second: 8577.39</pre>"
      ],
      "text/plain": [
       "recommendations finished on 109000/138493 queries. users per second: 8577.39"
      ]
     },
     "metadata": {},
     "output_type": "execute_result"
    },
    {
     "data": {
      "text/html": [
       "<pre>recommendations finished on 110000/138493 queries. users per second: 8581.63</pre>"
      ],
      "text/plain": [
       "recommendations finished on 110000/138493 queries. users per second: 8581.63"
      ]
     },
     "metadata": {},
     "output_type": "execute_result"
    },
    {
     "data": {
      "text/html": [
       "<pre>recommendations finished on 111000/138493 queries. users per second: 8588.48</pre>"
      ],
      "text/plain": [
       "recommendations finished on 111000/138493 queries. users per second: 8588.48"
      ]
     },
     "metadata": {},
     "output_type": "execute_result"
    },
    {
     "data": {
      "text/html": [
       "<pre>recommendations finished on 112000/138493 queries. users per second: 8595.65</pre>"
      ],
      "text/plain": [
       "recommendations finished on 112000/138493 queries. users per second: 8595.65"
      ]
     },
     "metadata": {},
     "output_type": "execute_result"
    },
    {
     "data": {
      "text/html": [
       "<pre>recommendations finished on 113000/138493 queries. users per second: 8597.45</pre>"
      ],
      "text/plain": [
       "recommendations finished on 113000/138493 queries. users per second: 8597.45"
      ]
     },
     "metadata": {},
     "output_type": "execute_result"
    },
    {
     "data": {
      "text/html": [
       "<pre>recommendations finished on 114000/138493 queries. users per second: 8592.37</pre>"
      ],
      "text/plain": [
       "recommendations finished on 114000/138493 queries. users per second: 8592.37"
      ]
     },
     "metadata": {},
     "output_type": "execute_result"
    },
    {
     "data": {
      "text/html": [
       "<pre>recommendations finished on 115000/138493 queries. users per second: 8578.8</pre>"
      ],
      "text/plain": [
       "recommendations finished on 115000/138493 queries. users per second: 8578.8"
      ]
     },
     "metadata": {},
     "output_type": "execute_result"
    },
    {
     "data": {
      "text/html": [
       "<pre>recommendations finished on 116000/138493 queries. users per second: 8562.79</pre>"
      ],
      "text/plain": [
       "recommendations finished on 116000/138493 queries. users per second: 8562.79"
      ]
     },
     "metadata": {},
     "output_type": "execute_result"
    },
    {
     "data": {
      "text/html": [
       "<pre>recommendations finished on 117000/138493 queries. users per second: 8553.25</pre>"
      ],
      "text/plain": [
       "recommendations finished on 117000/138493 queries. users per second: 8553.25"
      ]
     },
     "metadata": {},
     "output_type": "execute_result"
    },
    {
     "data": {
      "text/html": [
       "<pre>recommendations finished on 118000/138493 queries. users per second: 8535.78</pre>"
      ],
      "text/plain": [
       "recommendations finished on 118000/138493 queries. users per second: 8535.78"
      ]
     },
     "metadata": {},
     "output_type": "execute_result"
    },
    {
     "data": {
      "text/html": [
       "<pre>recommendations finished on 119000/138493 queries. users per second: 8531.05</pre>"
      ],
      "text/plain": [
       "recommendations finished on 119000/138493 queries. users per second: 8531.05"
      ]
     },
     "metadata": {},
     "output_type": "execute_result"
    },
    {
     "data": {
      "text/html": [
       "<pre>recommendations finished on 120000/138493 queries. users per second: 8526.34</pre>"
      ],
      "text/plain": [
       "recommendations finished on 120000/138493 queries. users per second: 8526.34"
      ]
     },
     "metadata": {},
     "output_type": "execute_result"
    },
    {
     "data": {
      "text/html": [
       "<pre>recommendations finished on 121000/138493 queries. users per second: 8517.35</pre>"
      ],
      "text/plain": [
       "recommendations finished on 121000/138493 queries. users per second: 8517.35"
      ]
     },
     "metadata": {},
     "output_type": "execute_result"
    },
    {
     "data": {
      "text/html": [
       "<pre>recommendations finished on 122000/138493 queries. users per second: 8514.79</pre>"
      ],
      "text/plain": [
       "recommendations finished on 122000/138493 queries. users per second: 8514.79"
      ]
     },
     "metadata": {},
     "output_type": "execute_result"
    },
    {
     "data": {
      "text/html": [
       "<pre>recommendations finished on 123000/138493 queries. users per second: 8507.16</pre>"
      ],
      "text/plain": [
       "recommendations finished on 123000/138493 queries. users per second: 8507.16"
      ]
     },
     "metadata": {},
     "output_type": "execute_result"
    },
    {
     "data": {
      "text/html": [
       "<pre>recommendations finished on 124000/138493 queries. users per second: 8493.52</pre>"
      ],
      "text/plain": [
       "recommendations finished on 124000/138493 queries. users per second: 8493.52"
      ]
     },
     "metadata": {},
     "output_type": "execute_result"
    },
    {
     "data": {
      "text/html": [
       "<pre>recommendations finished on 125000/138493 queries. users per second: 8485.84</pre>"
      ],
      "text/plain": [
       "recommendations finished on 125000/138493 queries. users per second: 8485.84"
      ]
     },
     "metadata": {},
     "output_type": "execute_result"
    },
    {
     "data": {
      "text/html": [
       "<pre>recommendations finished on 126000/138493 queries. users per second: 8481.76</pre>"
      ],
      "text/plain": [
       "recommendations finished on 126000/138493 queries. users per second: 8481.76"
      ]
     },
     "metadata": {},
     "output_type": "execute_result"
    },
    {
     "data": {
      "text/html": [
       "<pre>recommendations finished on 127000/138493 queries. users per second: 8479.75</pre>"
      ],
      "text/plain": [
       "recommendations finished on 127000/138493 queries. users per second: 8479.75"
      ]
     },
     "metadata": {},
     "output_type": "execute_result"
    },
    {
     "data": {
      "text/html": [
       "<pre>recommendations finished on 128000/138493 queries. users per second: 8471.98</pre>"
      ],
      "text/plain": [
       "recommendations finished on 128000/138493 queries. users per second: 8471.98"
      ]
     },
     "metadata": {},
     "output_type": "execute_result"
    },
    {
     "data": {
      "text/html": [
       "<pre>recommendations finished on 129000/138493 queries. users per second: 8465.17</pre>"
      ],
      "text/plain": [
       "recommendations finished on 129000/138493 queries. users per second: 8465.17"
      ]
     },
     "metadata": {},
     "output_type": "execute_result"
    },
    {
     "data": {
      "text/html": [
       "<pre>recommendations finished on 130000/138493 queries. users per second: 8471.41</pre>"
      ],
      "text/plain": [
       "recommendations finished on 130000/138493 queries. users per second: 8471.41"
      ]
     },
     "metadata": {},
     "output_type": "execute_result"
    },
    {
     "data": {
      "text/html": [
       "<pre>recommendations finished on 131000/138493 queries. users per second: 8473.32</pre>"
      ],
      "text/plain": [
       "recommendations finished on 131000/138493 queries. users per second: 8473.32"
      ]
     },
     "metadata": {},
     "output_type": "execute_result"
    },
    {
     "data": {
      "text/html": [
       "<pre>recommendations finished on 132000/138493 queries. users per second: 8457.02</pre>"
      ],
      "text/plain": [
       "recommendations finished on 132000/138493 queries. users per second: 8457.02"
      ]
     },
     "metadata": {},
     "output_type": "execute_result"
    },
    {
     "data": {
      "text/html": [
       "<pre>recommendations finished on 133000/138493 queries. users per second: 8407.3</pre>"
      ],
      "text/plain": [
       "recommendations finished on 133000/138493 queries. users per second: 8407.3"
      ]
     },
     "metadata": {},
     "output_type": "execute_result"
    },
    {
     "data": {
      "text/html": [
       "<pre>recommendations finished on 134000/138493 queries. users per second: 8368.09</pre>"
      ],
      "text/plain": [
       "recommendations finished on 134000/138493 queries. users per second: 8368.09"
      ]
     },
     "metadata": {},
     "output_type": "execute_result"
    },
    {
     "data": {
      "text/html": [
       "<pre>recommendations finished on 135000/138493 queries. users per second: 8357.33</pre>"
      ],
      "text/plain": [
       "recommendations finished on 135000/138493 queries. users per second: 8357.33"
      ]
     },
     "metadata": {},
     "output_type": "execute_result"
    },
    {
     "data": {
      "text/html": [
       "<pre>recommendations finished on 136000/138493 queries. users per second: 8339.33</pre>"
      ],
      "text/plain": [
       "recommendations finished on 136000/138493 queries. users per second: 8339.33"
      ]
     },
     "metadata": {},
     "output_type": "execute_result"
    },
    {
     "data": {
      "text/html": [
       "<pre>recommendations finished on 137000/138493 queries. users per second: 8282.85</pre>"
      ],
      "text/plain": [
       "recommendations finished on 137000/138493 queries. users per second: 8282.85"
      ]
     },
     "metadata": {},
     "output_type": "execute_result"
    },
    {
     "data": {
      "text/html": [
       "<pre>recommendations finished on 138000/138493 queries. users per second: 8289.16</pre>"
      ],
      "text/plain": [
       "recommendations finished on 138000/138493 queries. users per second: 8289.16"
      ]
     },
     "metadata": {},
     "output_type": "execute_result"
    }
   ],
   "source": [
    "results = model.recommend()"
   ]
  },
  {
   "cell_type": "markdown",
   "metadata": {},
   "source": [
    "<h1> Find Similar Items </h1>"
   ]
  },
  {
   "cell_type": "code",
   "execution_count": 33,
   "metadata": {},
   "outputs": [],
   "source": [
    "similar_items = model.get_similar_items()"
   ]
  },
  {
   "cell_type": "code",
   "execution_count": 34,
   "metadata": {},
   "outputs": [
    {
     "name": "stdout",
     "output_type": "stream",
     "text": [
      "+---------+---------+---------------------+------+\n",
      "| movieId | similar |        score        | rank |\n",
      "+---------+---------+---------------------+------+\n",
      "|    2    |   367   |  0.3666577935218811 |  1   |\n",
      "|    2    |   586   |  0.3523901104927063 |  2   |\n",
      "|    2    |   500   | 0.34584909677505493 |  3   |\n",
      "|    2    |   364   |  0.3412216305732727 |  4   |\n",
      "|    2    |   208   | 0.30882930755615234 |  5   |\n",
      "|    2    |   588   |  0.3032993674278259 |  6   |\n",
      "|    2    |   377   |  0.3014238476753235 |  7   |\n",
      "|    2    |    19   | 0.29971665143966675 |  8   |\n",
      "|    2    |   153   | 0.29792654514312744 |  9   |\n",
      "|    2    |   595   |  0.2974637746810913 |  10  |\n",
      "+---------+---------+---------------------+------+\n",
      "[175190 rows x 4 columns]\n",
      "Note: Only the head of the SFrame is printed.\n",
      "You can use print_rows(num_rows=m, num_columns=n) to print more rows and columns.\n"
     ]
    }
   ],
   "source": [
    "print(similar_items)"
   ]
  },
  {
   "cell_type": "code",
   "execution_count": 24,
   "metadata": {},
   "outputs": [
    {
     "name": "stdout",
     "output_type": "stream",
     "text": [
      "+---------+-----------------------------+--------------------------------+------+\n",
      "| movieId |            title            |             genres             | year |\n",
      "+---------+-----------------------------+--------------------------------+------+\n",
      "|    1    |          Toy Story          | [Adventure, Animation, Chi...  | 1995 |\n",
      "|    2    |           Jumanji           | [Adventure, Children, Fantasy] | 1995 |\n",
      "|    3    |       Grumpier Old Men      |       [Comedy, Romance]        | 1995 |\n",
      "|    4    |      Waiting to Exhale      |    [Comedy, Drama, Romance]    | 1995 |\n",
      "|    5    | Father of the Bride Part II |            [Comedy]            | 1995 |\n",
      "|    6    |             Heat            |   [Action, Crime, Thriller]    | 1995 |\n",
      "|    7    |           Sabrina           |       [Comedy, Romance]        | 1995 |\n",
      "|    8    |         Tom and Huck        |     [Adventure, Children]      | 1995 |\n",
      "|    9    |         Sudden Death        |            [Action]            | 1995 |\n",
      "|    10   |          GoldenEye          | [Action, Adventure, Thriller]  | 1995 |\n",
      "+---------+-----------------------------+--------------------------------+------+\n",
      "[18053 rows x 4 columns]\n",
      "Note: Only the head of the SFrame is printed.\n",
      "You can use print_rows(num_rows=m, num_columns=n) to print more rows and columns.\n"
     ]
    }
   ],
   "source": [
    "print(items)"
   ]
  },
  {
   "cell_type": "code",
   "execution_count": null,
   "metadata": {},
   "outputs": [],
   "source": []
  }
 ],
 "metadata": {
  "kernelspec": {
   "display_name": "Python 3",
   "language": "python",
   "name": "python3"
  },
  "language_info": {
   "codemirror_mode": {
    "name": "ipython",
    "version": 3
   },
   "file_extension": ".py",
   "mimetype": "text/x-python",
   "name": "python",
   "nbconvert_exporter": "python",
   "pygments_lexer": "ipython3",
   "version": "3.6.5"
  }
 },
 "nbformat": 4,
 "nbformat_minor": 2
}
