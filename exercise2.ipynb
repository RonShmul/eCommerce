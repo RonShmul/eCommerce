{
 "cells": [
  {
   "cell_type": "heading",
   "metadata": {},
   "level": 1,
   "source": [
    "Preparing Data"
   ]
  },
  {
   "cell_type": "code",
   "execution_count": 130,
   "metadata": {},
   "outputs": [],
   "source": [
    "import numpy as np\n",
    "import pandas as pd\n",
    "import matplotlib.pyplot as plt"
   ]
  },
  {
   "cell_type": "code",
   "execution_count": 131,
   "metadata": {
    "collapsed": false
   },
   "outputs": [],
   "source": [
    "train_cols = ['user_id', 'movie_id', 'rating', 'timestamp']\n",
    "data_train = pd.read_csv(\"ml-100k/u1.base\", delimiter='\\t', names=train_cols)\n",
    "test_cols = ['user_id', 'movie_id', 'rating', 'timestamp', 'predict_rating', 'difference']\n",
    "data_test = pd.read_csv(\"ml-100k/u1.test\", delimiter='\\t', names=test_cols)\n",
    "average_movie_train = data_train.groupby('movie_id')['rating'].mean()\n",
    "average_movie_train_int = average_movie_train.astype(int)\n",
    "avg = average_movie_train_int.values.mean()\n",
    "avg = avg.astype(int)\n",
    "\n",
    "average_movie_train_df = pd.DataFrame({'rating_avg': data_train.groupby('movie_id')['rating'].mean()}).reset_index()\n",
    "average_movie_train_df.sort_values(by='rating_avg', ascending=False, inplace=True)\n",
    "average_movie_train_df = average_movie_train_df.reset_index(drop=True)\n",
    "user_movies_train_df = pd.DataFrame({'movies_list': data_train.groupby('user_id')['movie_id'].apply(list)}).reset_index()\n",
    "user_movies_test_df = pd.DataFrame({'movies_list': data_test.groupby('user_id')['movie_id'].apply(list)}).reset_index()"
   ]
  },
  {
   "cell_type": "heading",
   "metadata": {},
   "level": 1,
   "source": [
    "User Recommendations"
   ]
  },
  {
   "cell_type": "code",
   "execution_count": 134,
   "metadata": {},
   "outputs": [],
   "source": [
    "def user_recommendations(user_movies_train_df,average_movie_train_df):\n",
    "    user_recommendations_avg = {}\n",
    "    user_recommendations_random = {}\n",
    "    for index, row in user_movies_train_df.iterrows():\n",
    "        id = row['user_id']\n",
    "        movies = row['movies_list']\n",
    "        rec_list_avg = []\n",
    "        i = 0\n",
    "        # Average\n",
    "        while len(rec_list_avg) < 20:\n",
    "            must_pop_avg = average_movie_train_df.iloc[i]['movie_id'].astype(int)        \n",
    "            if must_pop_avg not in movies:\n",
    "                rec_list_avg.append(must_pop_avg)\n",
    "            i = i + 1\n",
    "        user_recommendations_avg[id] = rec_list_avg\n",
    "        # Random\n",
    "        rec_list_random = list(average_movie_train_df.sample(n=20)['movie_id'])\n",
    "        user_recommendations_random[id] = rec_list_random\n",
    "    return user_recommendations_avg, user_recommendations_random"
   ]
  },
  {
   "cell_type": "code",
   "execution_count": 135,
   "metadata": {},
   "outputs": [],
   "source": [
    "all_user_recommendations_avg, all_user_recommendations_random = user_recommendations(user_movies_train_df, average_movie_train_df)\n",
    "# print(all_user_recommendations_avg)\n",
    "# print(all_user_recommendations_random)"
   ]
  },
  {
   "cell_type": "heading",
   "metadata": {},
   "level": 1,
   "source": [
    "MAE"
   ]
  },
  {
   "cell_type": "code",
   "execution_count": 136,
   "metadata": {
    "collapsed": false
   },
   "outputs": [],
   "source": [
    "def avg_movie(movie_id, average_movie_train_int):\n",
    "    if movie_id in average_movie_train_int:\n",
    "        return average_movie_train_int[movie_id]\n",
    "    else:\n",
    "        return None\n",
    "\n",
    "\n",
    "def calc_mae(data_test, average_movie_train_int):\n",
    "    for index, row in data_test.iterrows():\n",
    "        predict_value = avg_movie(row['movie_id'], average_movie_train_int)\n",
    "        if predict_value is None:\n",
    "            predict_value = avg\n",
    "        data_test.at[index, 'predict_rating'] = predict_value    \n",
    "        real_value = row['rating']\n",
    "        difference = pd.np.absolute(real_value - predict_value)\n",
    "        data_test.at[index, 'difference'] = difference \n",
    "    numerator = data_test['difference'].sum()\n",
    "    denominator = data_test.shape[0]\n",
    "    mae = numerator/denominator    \n",
    "    return mae"
   ]
  },
  {
   "cell_type": "code",
   "execution_count": 137,
   "metadata": {},
   "outputs": [
    {
     "name": "stdout",
     "output_type": "stream",
     "text": [
      "0.94175\n"
     ]
    }
   ],
   "source": [
    "all_mae = calc_mae(data_test, average_movie_train_int)\n",
    "print(all_mae)"
   ]
  },
  {
   "cell_type": "heading",
   "metadata": {},
   "level": 1,
   "source": [
    "Recall and Precision"
   ]
  },
  {
   "cell_type": "code",
   "execution_count": 138,
   "metadata": {},
   "outputs": [],
   "source": [
    "def recall_precision(user_movies_test_df, user_recommendations_avg, user_recommendations_random):\n",
    "    user_recall_avg = []\n",
    "    user_recall_random = []\n",
    "    user_precision_avg = []\n",
    "    user_precision_random = []\n",
    "    \n",
    "    for index, row in user_movies_test_df.iterrows():\n",
    "        id = row['user_id']\n",
    "        true = row['movies_list']\n",
    "        pred_avg = user_recommendations_avg[id]\n",
    "        pred_random = user_recommendations_random[id]\n",
    "        \n",
    "        size_true = len(true)\n",
    "        size_pred_avg = len(pred_avg)    \n",
    "        size_pred_random = len(pred_random)\n",
    "        \n",
    "        common_avg = list(set(true).intersection(pred_avg))\n",
    "        common_random = list(set(true).intersection(pred_random))\n",
    "        \n",
    "        number_common_avg = len(common_avg)\n",
    "        number_common_random = len(common_random)\n",
    "        \n",
    "        recall_avg = number_common_avg / size_true\n",
    "        user_recall_avg.append(recall_avg)\n",
    "        recall_random = number_common_random / size_true\n",
    "        user_recall_random.append(recall_random)\n",
    "        \n",
    "        precision_avg = number_common_avg / size_pred_avg\n",
    "        user_precision_avg.append(precision_avg)\n",
    "        precision_random = number_common_random / size_pred_random\n",
    "        user_precision_random.append(precision_random)\n",
    "    \n",
    "    recall_for_avg = np.mean(user_recall_avg)\n",
    "    recall_for_random = np.mean(user_recall_random)\n",
    "    precision_for_avg = np.mean(user_precision_avg)\n",
    "    precision_for_random = np.mean(user_precision_random)\n",
    "    return recall_for_avg, recall_for_random, precision_for_avg,precision_for_random"
   ]
  },
  {
   "cell_type": "code",
   "execution_count": 143,
   "metadata": {},
   "outputs": [
    {
     "name": "stdout",
     "output_type": "stream",
     "text": [
      "0.02233534107339741\n0.013040424753171236\n0.04586056644880174\n0.02821350762527233\n"
     ]
    }
   ],
   "source": [
    "all_recall_for_avg, all_recall_for_random, all_precision_for_avg, all_precision_for_random = recall_precision(user_movies_test_df, all_user_recommendations_avg, all_user_recommendations_random)\n",
    "print(all_recall_for_avg)\n",
    "print(all_recall_for_random)\n",
    "print(all_precision_for_avg)\n",
    "print(all_precision_for_random)"
   ]
  },
  {
   "cell_type": "heading",
   "metadata": {},
   "level": 1,
   "source": [
    "Preparing Data - Merge"
   ]
  },
  {
   "cell_type": "code",
   "execution_count": 144,
   "metadata": {},
   "outputs": [],
   "source": [
    "user_cols = ['user_id', 'age', 'gender', 'occupation', 'zip_code']\n",
    "data_user = pd.read_csv('ml-100k/u.user', delimiter='|', names=user_cols)\n",
    "users_ratings_train = data_train.merge(data_user, on='user_id', how='inner')\n",
    "users_ratings_test = data_test.merge(data_user, on='user_id', how='inner')"
   ]
  },
  {
   "cell_type": "heading",
   "metadata": {},
   "level": 1,
   "source": [
    "Preparing Data - Males"
   ]
  },
  {
   "cell_type": "code",
   "execution_count": 145,
   "metadata": {},
   "outputs": [],
   "source": [
    "data_train_males = users_ratings_train.loc[users_ratings_train['gender'] == 'M']\n",
    "data_test_males = users_ratings_test.loc[users_ratings_test['gender'] == 'M']\n",
    "average_movie_train_males = data_train_males.groupby('movie_id')['rating'].mean()\n",
    "average_movie_train_males_int = average_movie_train_males.astype(int)\n",
    "avg_males = average_movie_train_males_int.values.mean()\n",
    "avg_males = avg_males.astype(int)\n",
    "\n",
    "average_movie_train_males_df = pd.DataFrame({'rating_avg': data_train_males.groupby('movie_id')['rating'].mean()}).reset_index()\n",
    "average_movie_train_males_df.sort_values(by='rating_avg', ascending=False, inplace=True)\n",
    "average_movie_train_males_df = average_movie_train_males_df.reset_index(drop=True)\n",
    "user_movies_train_males_df = pd.DataFrame({'movies_list': data_train_males.groupby('user_id')['movie_id'].apply(list)}).reset_index()\n",
    "user_movies_test_males_df = pd.DataFrame({'movies_list': data_test_males.groupby('user_id')['movie_id'].apply(list)}).reset_index()\n",
    "\n"
   ]
  },
  {
   "cell_type": "heading",
   "metadata": {},
   "level": 1,
   "source": [
    "User Recommendations - Males"
   ]
  },
  {
   "cell_type": "code",
   "execution_count": 146,
   "metadata": {},
   "outputs": [],
   "source": [
    "males_recommendations_avg, males_recommendations_random = user_recommendations(user_movies_train_males_df, average_movie_train_males_df)\n",
    "# print(males_recommendations_avg)\n",
    "# print(males_recommendations_random)"
   ]
  },
  {
   "cell_type": "heading",
   "metadata": {},
   "level": 1,
   "source": [
    "MAE - Males"
   ]
  },
  {
   "cell_type": "code",
   "execution_count": 147,
   "metadata": {},
   "outputs": [
    {
     "name": "stdout",
     "output_type": "stream",
     "text": [
      "0.9192984769565504\n"
     ]
    }
   ],
   "source": [
    "males_mae = calc_mae(data_test_males, average_movie_train_males_int)\n",
    "print(males_mae)"
   ]
  },
  {
   "cell_type": "heading",
   "metadata": {},
   "level": 1,
   "source": [
    "Recall and Precision - Males"
   ]
  },
  {
   "cell_type": "code",
   "execution_count": 148,
   "metadata": {},
   "outputs": [
    {
     "name": "stdout",
     "output_type": "stream",
     "text": [
      "0.00239061447012157\n0.017470085029308986\n0.005945121951219513\n0.032164634146341464\n"
     ]
    }
   ],
   "source": [
    "males_recall_for_avg, males_recall_for_random, males_precision_for_avg, males_precision_for_random = recall_precision(user_movies_test_males_df, males_recommendations_avg, males_recommendations_random)\n",
    "print(males_recall_for_avg)\n",
    "print(males_recall_for_random)\n",
    "print(males_precision_for_avg)\n",
    "print(males_precision_for_random)"
   ]
  },
  {
   "cell_type": "heading",
   "metadata": {},
   "level": 1,
   "source": [
    "Preparing Data - Females"
   ]
  },
  {
   "cell_type": "code",
   "execution_count": 150,
   "metadata": {},
   "outputs": [],
   "source": [
    "data_train_females = users_ratings_train.loc[users_ratings_train['gender'] == 'F']\n",
    "data_test_females = users_ratings_test.loc[users_ratings_test['gender'] == 'F']\n",
    "average_movie_train_females = data_train_females.groupby('movie_id')['rating'].mean()\n",
    "average_movie_train_females_int = average_movie_train_females.astype(int)\n",
    "avg_females = average_movie_train_females_int.values.mean()\n",
    "avg_females = avg_females.astype(int)\n",
    "\n",
    "average_movie_train_females_df = pd.DataFrame({'rating_avg': data_train_females.groupby('movie_id')['rating'].mean()}).reset_index()\n",
    "average_movie_train_females_df.sort_values(by='rating_avg', ascending=False, inplace=True)\n",
    "average_movie_train_females_df = average_movie_train_females_df.reset_index(drop=True)\n",
    "user_movies_train_females_df = pd.DataFrame({'movies_list': data_train_females.groupby('user_id')['movie_id'].apply(list)}).reset_index()\n",
    "user_movies_test_females_df = pd.DataFrame({'movies_list': data_test_females.groupby('user_id')['movie_id'].apply(list)}).reset_index()\n",
    "\n"
   ]
  },
  {
   "cell_type": "heading",
   "metadata": {},
   "level": 1,
   "source": [
    "User Recommendations - Females"
   ]
  },
  {
   "cell_type": "code",
   "execution_count": 151,
   "metadata": {},
   "outputs": [],
   "source": [
    "females_recommendations_avg, females_recommendations_random = user_recommendations(user_movies_train_females_df, average_movie_train_females_df)\n",
    "# print(females_recommendations_avg)\n",
    "# print(females_recommendations_random)"
   ]
  },
  {
   "cell_type": "heading",
   "metadata": {},
   "level": 1,
   "source": [
    "MAE - Females"
   ]
  },
  {
   "cell_type": "code",
   "execution_count": 152,
   "metadata": {},
   "outputs": [
    {
     "name": "stdout",
     "output_type": "stream",
     "text": [
      "1.010552451893234\n"
     ]
    }
   ],
   "source": [
    "females_mae = calc_mae(data_test_females, average_movie_train_females_int)\n",
    "print(females_mae)"
   ]
  },
  {
   "cell_type": "heading",
   "metadata": {},
   "level": 1,
   "source": [
    "Recall and Precision - Females"
   ]
  },
  {
   "cell_type": "code",
   "execution_count": 153,
   "metadata": {},
   "outputs": [
    {
     "name": "stdout",
     "output_type": "stream",
     "text": [
      "0.007551077332771078\n0.014308444786193602\n0.01908396946564886\n0.022900763358778626\n"
     ]
    }
   ],
   "source": [
    "females_recall_for_avg, females_recall_for_random, females_precision_for_avg, females_precision_for_random = recall_precision(user_movies_test_females_df, females_recommendations_avg, females_recommendations_random)\n",
    "print(females_recall_for_avg)\n",
    "print(females_recall_for_random)\n",
    "print(females_precision_for_avg)\n",
    "print(females_precision_for_random)"
   ]
  },
  {
   "cell_type": "code",
   "execution_count": null,
   "metadata": {},
   "outputs": [],
   "source": []
  }
 ],
 "metadata": {
  "kernelspec": {
   "display_name": "Python 2",
   "language": "python",
   "name": "python2"
  },
  "language_info": {
   "codemirror_mode": {
    "name": "ipython",
    "version": 2
   },
   "file_extension": ".py",
   "mimetype": "text/x-python",
   "name": "python",
   "nbconvert_exporter": "python",
   "pygments_lexer": "ipython2",
   "version": "2.7.6"
  }
 },
 "nbformat": 4,
 "nbformat_minor": 0
}
