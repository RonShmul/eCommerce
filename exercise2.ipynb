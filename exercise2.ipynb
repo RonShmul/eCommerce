{
 "cells": [
  {
   "cell_type": "code",
   "execution_count": 6,
   "metadata": {
    "collapsed": false
   },
   "outputs": [
    {
     "name": "stdout",
     "output_type": "stream",
     "text": [
      "0.94175\n"
     ]
    }
   ],
   "source": [
    "import pandas as pd\n",
    "import matplotlib.pyplot as plt\n",
    "\n",
    "# Forecasting model\n",
    "# read train\n",
    "r_cols = ['user_id', 'movie_id', 'rating', 'timestamp']\n",
    "data_train = pd.read_csv(\"ml-100k/u1.base\", delimiter='\\t', names=r_cols)\n",
    "average_movie_train = data_train.groupby('movie_id')['rating'].mean()\n",
    "average_movie_train_int = average_movie_train.astype(int)\n",
    "avg = average_movie_train_int.values.mean()\n",
    "avg = avg.astype(int)\n",
    "\n",
    "\n",
    "def avg_movie(movie_id):\n",
    "    if movie_id in average_movie_train_int:\n",
    "        return average_movie_train_int[movie_id]\n",
    "    else:\n",
    "        return None\n",
    "\n",
    "\n",
    "# test\n",
    "test_cols = ['user_id', 'movie_id', 'rating', 'timestamp', 'predict_rating', 'difference']\n",
    "data_test = pd.read_csv(\"ml-100k/u1.test\", delimiter='\\t', names=test_cols)\n",
    "for index, row in data_test.iterrows():\n",
    "    predict_value = avg_movie(row['movie_id'])\n",
    "    if predict_value is None:\n",
    "        predict_value = avg\n",
    "    data_test.at[index, 'predict_rating'] = predict_value    \n",
    "    real_value = row['rating']\n",
    "    difference = pd.np.absolute(real_value - predict_value)\n",
    "    data_test.at[index, 'difference'] = difference    \n",
    "#mae\n",
    "numerator = data_test['difference'].sum()\n",
    "denominator = data_test.shape[0]\n",
    "mae = numerator/denominator\n",
    "print(mae)\n",
    "\n"
   ]
  },
  {
   "cell_type": "code",
   "execution_count": null,
   "metadata": {
    "collapsed": false
   },
   "outputs": [],
   "source": [
    "# 20 User recommendations\n",
    "# Average rating + Random\n",
    "import numpy as np\n",
    "average_movie_train_df = pd.DataFrame({'rating_avg': data_train.groupby('movie_id')['rating'].mean()}).reset_index()\n",
    "average_movie_train_df.sort_values(by='rating_avg', ascending=False, inplace=True)\n",
    "average_movie_train_df = average_movie_train_df.reset_index(drop=True)\n",
    "user_recommendations_avg = {}\n",
    "user_recommendations_random = {}\n",
    "user_movies_train_df = pd.DataFrame({'movies_list': data_train.groupby('user_id')['movie_id'].apply(list)}).reset_index()\n",
    "for index, row in user_movies_train_df.iterrows():\n",
    "    id = row['user_id']\n",
    "    movies = row['movies_list']\n",
    "    rec_list_avg = []\n",
    "    rec_list_random = []\n",
    "    i = 0\n",
    "    # Average\n",
    "    while len(rec_list_avg) < 20:\n",
    "        must_pop_avg = average_movie_train_df.iloc[i]['movie_id'].astype(int)        \n",
    "        if must_pop_avg not in movies:\n",
    "            rec_list_avg.append(must_pop_avg)\n",
    "        i = i + 1\n",
    "    user_recommendations_avg[id] = rec_list_avg\n",
    "    # Random\n",
    "    rec_list_random = list(average_movie_train_df.sample(n=20)['movie_id'])\n",
    "    user_recommendations_random[id] = rec_list_random\n",
    "    \n",
    "    \n",
    "# print(user_recommendations_avg)\n",
    "# print(user_recommendations_random)\n",
    "\n",
    "# recall + precision\n",
    "user_recall_avg = []\n",
    "user_recall_random = []\n",
    "\n",
    "user_precision_avg = []\n",
    "user_precision_random = []\n",
    "\n",
    "user_movies_test_df = pd.DataFrame({'movies_list': data_test.groupby('user_id')['movie_id'].apply(list)}).reset_index()\n",
    "for index, row in user_movies_test_df.iterrows():\n",
    "    id = row['user_id']\n",
    "    true = row['movies_list']\n",
    "    pred_avg = user_recommendations_avg[id]\n",
    "    \n",
    "    size_true = len(true)\n",
    "    size_pred_avg = len(pred_avg)\n",
    "    \n",
    "    size_pred_random = len(pred_random)\n",
    "    common_avg = list(set(true).intersection(pred_avg))\n",
    "    common_random = list(set(true).intersection(pred_random))\n",
    "    number_common_avg = len(common_avg)\n",
    "    number_common_random = len(common_random)\n",
    "    recall_avg = number_common_avg / size_true\n",
    "    user_recall_avg.append(recall_avg)\n",
    "    recall_random = number_common_random / size_true\n",
    "    user_recall_random.append(recall_random)\n",
    "    precision_avg = number_common_avg / size_pred_avg\n",
    "    user_precision_avg.append(precision_avg)\n",
    "    precision_random = number_common_random / size_pred_random\n",
    "    user_precision_random.append(precision_random)\n",
    "\n",
    "recall_for_avg = np.mean(user_recall_avg)\n",
    "recall_for_random = np.mean(user_recall_random)\n",
    "# print(recall_for_avg)\n",
    "# print(recall_for_random)\n",
    "precision_for_avg = np.mean(user_precision_avg)\n",
    "precision_for_random = np.mean(user_precision_random)\n",
    "# print(precision_for_avg)\n",
    "# print(precision_for_random)\n",
    "\n",
    "\n",
    "\n"
   ]
  },
  {
   "cell_type": "code",
   "execution_count": 82,
   "metadata": {},
   "outputs": [],
   "source": []
  },
  {
   "cell_type": "code",
   "execution_count": 79,
   "metadata": {},
   "outputs": [],
   "source": []
  },
  {
   "cell_type": "code",
   "execution_count": null,
   "metadata": {},
   "outputs": [],
   "source": []
  }
 ],
 "metadata": {
  "kernelspec": {
   "display_name": "Python 2",
   "language": "python",
   "name": "python2"
  },
  "language_info": {
   "codemirror_mode": {
    "name": "ipython",
    "version": 2
   },
   "file_extension": ".py",
   "mimetype": "text/x-python",
   "name": "python",
   "nbconvert_exporter": "python",
   "pygments_lexer": "ipython2",
   "version": "2.7.6"
  }
 },
 "nbformat": 4,
 "nbformat_minor": 0
}
