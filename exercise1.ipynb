{
 "cells": [
  {
   "cell_type": "code",
   "execution_count": 55,
   "metadata": {
    "collapsed": false
   },
   "outputs": [
    {
     "data": {
      "text/plain": [
       "movie_id\n1       3\n2       3\n3       3\n4       3\n5       3\n6       3\n7       3\n8       3\n9       3\n10      3\n11      3\n12      4\n13      3\n14      3\n15      3\n16      3\n17      3\n18      2\n19      3\n20      3\n21      2\n22      4\n23      4\n24      3\n25      3\n26      3\n27      3\n28      3\n29      2\n30      4\n       ..\n1653    5\n1654    1\n1655    2\n1656    3\n1657    3\n1658    3\n1659    1\n1660    2\n1661    1\n1662    2\n1663    2\n1664    3\n1665    2\n1666    2\n1667    3\n1668    3\n1669    2\n1670    3\n1671    1\n1672    2\n1673    3\n1674    4\n1675    3\n1676    2\n1677    3\n1678    1\n1679    3\n1680    2\n1681    3\n1682    3\nName: rating, Length: 1650, dtype: int64"
      ]
     },
     "execution_count": 55,
     "metadata": {},
     "output_type": "execute_result"
    }
   ],
   "source": [
    "import pandas as pd\n",
    "import matplotlib.pyplot as plt\n",
    "\n",
    "\n",
    "r_cols = ['user_id', 'movie_id', 'rating', 'timestamp']\n",
    "data = pd.read_csv(\"/Users/sivanr/PycharmProjects/eCommerce/ml-100k/u1.base\", delimiter='\\t', names=r_cols)\n",
    "r_data = data.groupby('movie_id')['rating'].mean()\n",
    "round_r_data = r_data.astype(int)\n",
    "round_r_data"
   ]
  },
  {
   "cell_type": "code",
   "execution_count": 56,
   "metadata": {},
   "outputs": [
    {
     "data": {
      "text/plain": [
       "{3: 893, 4: 163, 2: 479, 1: 107, 5: 8}"
      ]
     },
     "execution_count": 56,
     "metadata": {},
     "output_type": "execute_result"
    }
   ],
   "source": [
    "mean_counts = {}\n",
    "\n",
    "for k in round_r_data:\n",
    "    mean_counts[k] = mean_counts.get(k, 0) + 1\n",
    "mean_counts"
   ]
  },
  {
   "cell_type": "code",
   "execution_count": 57,
   "metadata": {},
   "outputs": [
    {
     "data": {
      "image/png": "[encoded data removed]",
      "text/plain": [
       "<Figure size 1296x936 with 1 Axes>"
      ]
     },
     "metadata": {},
     "output_type": "display_data"
    }
   ],
   "source": [
    "fig = plt.figure(1, figsize=(18,13))\n",
    "ax2 = fig.add_subplot(2,1,2)\n",
    "y_axis = list(mean_counts.values())\n",
    "x_axis = list(mean_counts.keys())\n",
    "x_label = list(mean_counts.keys())\n",
    "plt.xticks(rotation=85, fontsize = 15)\n",
    "plt.yticks(fontsize = 15)\n",
    "plt.xticks(x_axis, x_label)\n",
    "plt.ylabel(\"No. of rate\", fontsize=24, labelpad=0)\n",
    "ax2.bar(x_axis, y_axis, align = 'center', color='r')\n",
    "plt.title(\"Average Rating Counts\", bbox={'facecolor': 'k', 'pad': 5}, color='w', fontsize=30)\n",
    "plt.show()"
   ]
  },
  {
   "cell_type": "code",
   "execution_count": 37,
   "metadata": {},
   "outputs": [
    {
     "data": {
      "text/plain": [
       "movie_id\n1500    5.0\n1201    5.0\n1293    5.0\nName: rating, dtype: float64"
      ]
     },
     "execution_count": 37,
     "metadata": {},
     "output_type": "execute_result"
    }
   ],
   "source": [
    "r_data = r_data.sort_values(ascending=False)\n",
    "r_data.head(3)  # TODO: get the movie title"
   ]
  },
  {
   "cell_type": "code",
   "execution_count": 76,
   "metadata": {},
   "outputs": [
    {
     "data": {
      "text/plain": [
       "movie_id  gender\n1         F         3\n          M         3\n2         F         3\n          M         3\n3         F         2\n          M         3\n4         F         3\n          M         3\n5         F         3\n          M         3\n6         F         3\n          M         3\n7         F         3\n          M         3\n8         F         4\n          M         3\n9         F         3\n          M         3\n10        F         3\n          M         3\n11        F         3\n          M         3\n12        F         4\n          M         4\n13        F         3\n          M         3\n14        F         3\n          M         3\n15        F         3\n          M         3\n                   ..\n1656      M         5\n1657      M         3\n1658      F         2\n          M         4\n1659      M         1\n1660      M         2\n1661      F         1\n1662      F         4\n          M         1\n1663      F         2\n1664      F         2\n          M         4\n1665      F         2\n1666      F         2\n1667      F         3\n1668      F         3\n1669      F         2\n1670      F         3\n1671      F         1\n1672      M         2\n1673      F         3\n1674      M         4\n1675      M         3\n1676      M         2\n1677      F         3\n1678      M         1\n1679      M         3\n1680      M         2\n1681      M         3\n1682      M         3\nName: rating, Length: 3061, dtype: int64"
      ]
     },
     "execution_count": 76,
     "metadata": {},
     "output_type": "execute_result"
    }
   ],
   "source": [
    "u_cols = ['user_id', 'age', 'gender', 'occupation', 'zip_code']\n",
    "data_u = pd.read_csv('/Users/sivanr/PycharmProjects/eCommerce/ml-100k/u.user', delimiter='|', names=u_cols)\n",
    "users_ratings = data.merge(data_u, on='user_id', how='inner')\n",
    "ur_data = users_ratings.groupby(['movie_id', 'gender'])['rating'].mean()\n",
    "round_ur_data = ur_data.astype(int)\n",
    "round_ur_data"
   ]
  },
  {
   "cell_type": "code",
   "execution_count": 77,
   "metadata": {},
   "outputs": [],
   "source": [
    ""
   ]
  },
  {
   "cell_type": "code",
   "execution_count": null,
   "metadata": {},
   "outputs": [],
   "source": []
  }
 ],
 "metadata": {
  "kernelspec": {
   "display_name": "Python 2",
   "language": "python",
   "name": "python2"
  },
  "language_info": {
   "codemirror_mode": {
    "name": "ipython",
    "version": 2
   },
   "file_extension": ".py",
   "mimetype": "text/x-python",
   "name": "python",
   "nbconvert_exporter": "python",
   "pygments_lexer": "ipython2",
   "version": "2.7.6"
  }
 },
 "nbformat": 4,
 "nbformat_minor": 0
}
